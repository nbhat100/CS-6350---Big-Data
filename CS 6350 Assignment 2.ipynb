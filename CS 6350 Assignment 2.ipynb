{
 "cells": [
  {
   "cell_type": "code",
   "execution_count": 0,
   "metadata": {
    "application/vnd.databricks.v1+cell": {
     "cellMetadata": {
      "byteLimit": 2048000,
      "rowLimit": 10000
     },
     "inputWidgets": {},
     "nuid": "04c7388c-af01-43ae-b075-8a52bc2907fb",
     "showTitle": false,
     "title": ""
    }
   },
   "outputs": [
    {
     "output_type": "stream",
     "name": "stdout",
     "output_type": "stream",
     "text": [
      "Out[1]: ['0\\t1,2,3,4,5,6,7,8,9,10,11,12,13,14,15,16,17,18,19,20,21,22,23,24,25,26,27,28,29,30,31,32,33,34,35,36,37,38,39,40,41,42,43,44,45,46,47,48,49,50,51,52,53,54,55,56,57,58,59,60,61,62,63,64,65,66,67,68,69,70,71,72,73,74,75,76,77,78,79,80,81,82,83,84,85,86,87,88,89,90,91,92,93,94',\n '1\\t0,5,20,135,2409,8715,8932,10623,12347,12846,13840,13845,14005,20075,21556,22939,23520,28193,29724,29791,29826,30691,31232,31435,32317,32489,34394,35589,35605,35606,35613,35633,35648,35678,38737,43447,44846,44887,49226,49985,623,629,4999,6156,13912,14248,15190,17636,19217,20074,27536,29481,29726,29767,30257,33060,34250,34280,34392,34406,34418,34420,34439,34450,34651,45054,49592',\n '2\\t0,117,135,1220,2755,12453,24539,24714,41456,45046,49927,6893,13795,16659,32828,41878',\n '3\\t0,12,41,55,1532,12636,13185,27552,38737',\n '4\\t0,8,14,15,18,27,72,80,15326,19068,19079,24596,42697,46126,74,77,33269,38792,38822',\n '5\\t0,1,20,2022,22939,23527,30257,32503,35633,41457,43262,44846,49574,31140,32828',\n '6\\t0,21,98,2203,3238,5040,8795,9843,9847,15294,17874,18286,18311,18320,20553,35699,35776,38736,38750,38800,543,575,11879,12682,14943,15283,18332,18560,18625,25247,33080,34412,35785,35822,42231',\n '7\\t0,31993,40218,40433,1357,21843',\n '8\\t0,4,38,46,72,85,24777,83,33380',\n '9\\t0,6085,18972,19269']"
     ]
    }
   ],
   "source": [
    "dataset = sc.textFile('/FileStore/tables/friendRecommenderDataset.txt')\n",
    "dataset.take(10)"
   ]
  },
  {
   "cell_type": "code",
   "execution_count": 0,
   "metadata": {
    "application/vnd.databricks.v1+cell": {
     "cellMetadata": {
      "byteLimit": 2048000,
      "rowLimit": 10000
     },
     "inputWidgets": {},
     "nuid": "e6d6982e-f824-4cc9-a568-df5cac616b2c",
     "showTitle": false,
     "title": ""
    }
   },
   "outputs": [
    {
     "output_type": "stream",
     "name": "stdout",
     "output_type": "stream",
     "text": [
      "[(0, [1, 2, 3, 4, 5, 6, 7, 8, 9, 10, 11, 12, 13, 14, 15, 16, 17, 18, 19, 20, 21, 22, 23, 24, 25, 26, 27, 28, 29, 30, 31, 32, 33, 34, 35, 36, 37, 38, 39, 40, 41, 42, 43, 44, 45, 46, 47, 48, 49, 50, 51, 52, 53, 54, 55, 56, 57, 58, 59, 60, 61, 62, 63, 64, 65, 66, 67, 68, 69, 70, 71, 72, 73, 74, 75, 76, 77, 78, 79, 80, 81, 82, 83, 84, 85, 86, 87, 88, 89, 90, 91, 92, 93, 94]), (1, [0, 5, 20, 135, 2409, 8715, 8932, 10623, 12347, 12846, 13840, 13845, 14005, 20075, 21556, 22939, 23520, 28193, 29724, 29791, 29826, 30691, 31232, 31435, 32317, 32489, 34394, 35589, 35605, 35606, 35613, 35633, 35648, 35678, 38737, 43447, 44846, 44887, 49226, 49985, 623, 629, 4999, 6156, 13912, 14248, 15190, 17636, 19217, 20074, 27536, 29481, 29726, 29767, 30257, 33060, 34250, 34280, 34392, 34406, 34418, 34420, 34439, 34450, 34651, 45054, 49592]), (2, [0, 117, 135, 1220, 2755, 12453, 24539, 24714, 41456, 45046, 49927, 6893, 13795, 16659, 32828, 41878]), (3, [0, 12, 41, 55, 1532, 12636, 13185, 27552, 38737]), (4, [0, 8, 14, 15, 18, 27, 72, 80, 15326, 19068, 19079, 24596, 42697, 46126, 74, 77, 33269, 38792, 38822]), (5, [0, 1, 20, 2022, 22939, 23527, 30257, 32503, 35633, 41457, 43262, 44846, 49574, 31140, 32828]), (6, [0, 21, 98, 2203, 3238, 5040, 8795, 9843, 9847, 15294, 17874, 18286, 18311, 18320, 20553, 35699, 35776, 38736, 38750, 38800, 543, 575, 11879, 12682, 14943, 15283, 18332, 18560, 18625, 25247, 33080, 34412, 35785, 35822, 42231]), (7, [0, 31993, 40218, 40433, 1357, 21843]), (8, [0, 4, 38, 46, 72, 85, 24777, 83, 33380]), (9, [0, 6085, 18972, 19269])]\n"
     ]
    }
   ],
   "source": [
    "# The dataset list originally has elements in the format: userId <tab> list of friends, separated by commas\n",
    "# To convert the list of strings into key value pairs, the string first needs to be split by the tab character, \n",
    "# to separate the user and the list of friends. Then the string with the list of friends can be split by the comma\n",
    "# The friends are still strings, so for each friendID in the list, if the string is numeric the string is converted to an integer.\n",
    "userAndFriends = dataset.map(lambda x: x.split('\\t')).map(lambda x: (int(x[0]), x[1].split(','))).mapValues(lambda x: [int(friendID) for friendID in x if friendID.isnumeric()])\n",
    "print(userAndFriends.take(10))"
   ]
  },
  {
   "cell_type": "code",
   "execution_count": 0,
   "metadata": {
    "application/vnd.databricks.v1+cell": {
     "cellMetadata": {
      "byteLimit": 2048000,
      "rowLimit": 10000
     },
     "inputWidgets": {},
     "nuid": "29f09fd4-2e51-4c06-8f8a-2b389132b266",
     "showTitle": false,
     "title": ""
    }
   },
   "outputs": [
    {
     "output_type": "stream",
     "name": "stdout",
     "output_type": "stream",
     "text": [
      "903\t894,890,898,884,892,901,897,899,905,907\n6852\t6851,16652,20932,3412,28214,24258,8042,13016,24723,6855\n6840\t6839,4206,4246,13430,4234,10987,13263,34825,621,2865\n34624\t22756,19428,34266,34439,34364,34326,19427,34427,11395,34179\n22102\t4048,22118,22158,10987,22091,22161,16211,4264,11536,48920\n1619\t1537,1539,1541,1543,1545,1547,1549,1551,1553,1555\n40633\t49621,49606,49652,49698,41069,49691,49693,9453,13119,5531\n22307\t9170,26872,2680,43123,43185,26877,43349,5005,43190,43242\n40769\t40771,40772,40754,40762,37889,40755,40763,40775,39169,41733\n27972\t1415,27919,27921,27923,27925,27927,27929,27931,27933,27935\n"
     ]
    }
   ],
   "source": [
    "userFriendsMap = userAndFriends.collectAsMap()\n",
    "\n",
    "userAndNotFriends = userAndFriends.flatMap(lambda x: [(x[0], [userId for userId in userFriendsMap[friend] if userId not in x[1] and userId != x[0]]) for friend in x[1]]).reduceByKey(lambda x, y: x + y).mapValues(lambda x: [userid for userid in set(x)])\n",
    "#print(userAndNotFriends.take(2))\n",
    "userAndNotFriends.cache()\n",
    "\n",
    "randomUserSample = userAndFriends.takeSample(withReplacement=False, num=10)\n",
    "randomUserIds = [randUserId for randUserId, _ in randomUserSample]\n",
    "\n",
    "for randUser in randomUserIds:\n",
    "    curUserNotFriends = userAndNotFriends.filter(lambda x: x[0] == randUser)\n",
    "    rankedRecFriends = curUserNotFriends.flatMap(lambda x: [(userId, len((set(userFriendsMap[randUser]) & set(userFriendsMap[userId])))) \\\n",
    "                            for userId in x[1] if userId != randUser and userId not in userFriendsMap[randUser]])\n",
    "    distinctRecs = rankedRecFriends.distinct().sortBy(lambda x: -x[1])\n",
    "    top10Recs = distinctRecs.keys().take(10)\n",
    "    print(randUser, end='\\t')\n",
    "    if top10Recs:\n",
    "        for idx in range(len(top10Recs) - 1):\n",
    "            print(top10Recs[idx], end=',')\n",
    "        print(top10Recs[-1])\n",
    "    else:\n",
    "        print()\n"
   ]
  },
  {
   "cell_type": "code",
   "execution_count": 0,
   "metadata": {
    "application/vnd.databricks.v1+cell": {
     "cellMetadata": {
      "byteLimit": 2048000,
      "rowLimit": 10000
     },
     "inputWidgets": {},
     "nuid": "a6076455-f979-4c7a-b7bf-8b41c4b50f4d",
     "showTitle": false,
     "title": ""
    }
   },
   "outputs": [
    {
     "output_type": "stream",
     "name": "stdout",
     "output_type": "stream",
     "text": [
      "Requirement already satisfied: pip in /local_disk0/.ephemeral_nfs/envs/pythonEnv-cb3f1cea-ff32-4c02-81ea-dc215584383d/lib/python3.9/site-packages (21.2.4)\r\nCollecting pip\r\n  Downloading pip-23.3-py3-none-any.whl (2.1 MB)\r\n\u001B[?25l\r\u001B[K     |▏                               | 10 kB 8.3 MB/s eta 0:00:01\r\u001B[K     |▎                               | 20 kB 3.6 MB/s eta 0:00:01\r\u001B[K     |▌                               | 30 kB 5.2 MB/s eta 0:00:01\r\u001B[K     |▋                               | 40 kB 4.5 MB/s eta 0:00:01\r\u001B[K     |▊                               | 51 kB 4.1 MB/s eta 0:00:01\r\u001B[K     |█                               | 61 kB 4.9 MB/s eta 0:00:01\r\u001B[K     |█                               | 71 kB 5.1 MB/s eta 0:00:01\r\u001B[K     |█▎                              | 81 kB 5.7 MB/s eta 0:00:01\r\u001B[K     |█▍                              | 92 kB 5.8 MB/s eta 0:00:01\r\u001B[K     |█▌                              | 102 kB 5.2 MB/s eta 0:00:01\r\u001B[K     |█▊                              | 112 kB 5.2 MB/s eta 0:00:01\r\u001B[K     |█▉                              | 122 kB 5.2 MB/s eta 0:00:01\r\u001B[K     |██                              | 133 kB 5.2 MB/s eta 0:00:01\r\u001B[K     |██▏                             | 143 kB 5.2 MB/s eta 0:00:01\r\u001B[K     |██▎                             | 153 kB 5.2 MB/s eta 0:00:01\r\u001B[K     |██▌                             | 163 kB 5.2 MB/s eta 0:00:01\r\u001B[K     |██▋                             | 174 kB 5.2 MB/s eta 0:00:01\r\u001B[K     |██▉                             | 184 kB 5.2 MB/s eta 0:00:01\r\u001B[K     |███                             | 194 kB 5.2 MB/s eta 0:00:01\r\u001B[K     |███                             | 204 kB 5.2 MB/s eta 0:00:01\r\u001B[K     |███▎                            | 215 kB 5.2 MB/s eta 0:00:01\r\u001B[K     |███▍                            | 225 kB 5.2 MB/s eta 0:00:01\r\u001B[K     |███▋                            | 235 kB 5.2 MB/s eta 0:00:01\r\u001B[K     |███▊                            | 245 kB 5.2 MB/s eta 0:00:01\r\u001B[K     |███▉                            | 256 kB 5.2 MB/s eta 0:00:01\r\u001B[K     |████                            | 266 kB 5.2 MB/s eta 0:00:01\r\u001B[K     |████▏                           | 276 kB 5.2 MB/s eta 0:00:01\r\u001B[K     |████▍                           | 286 kB 5.2 MB/s eta 0:00:01\r\u001B[K     |████▌                           | 296 kB 5.2 MB/s eta 0:00:01\r\u001B[K     |████▋                           | 307 kB 5.2 MB/s eta 0:00:01\r\u001B[K     |████▉                           | 317 kB 5.2 MB/s eta 0:00:01\r\u001B[K     |█████                           | 327 kB 5.2 MB/s eta 0:00:01\r\u001B[K     |█████▏                          | 337 kB 5.2 MB/s eta 0:00:01\r\u001B[K     |█████▎                          | 348 kB 5.2 MB/s eta 0:00:01\r\u001B[K     |█████▍                          | 358 kB 5.2 MB/s eta 0:00:01\r\u001B[K     |█████▋                          | 368 kB 5.2 MB/s eta 0:00:01\r\u001B[K     |█████▊                          | 378 kB 5.2 MB/s eta 0:00:01\r\u001B[K     |██████                          | 389 kB 5.2 MB/s eta 0:00:01\r\u001B[K     |██████                          | 399 kB 5.2 MB/s eta 0:00:01\r\u001B[K     |██████▏                         | 409 kB 5.2 MB/s eta 0:00:01\r\u001B[K     |██████▍                         | 419 kB 5.2 MB/s eta 0:00:01\r\u001B[K     |██████▌                         | 430 kB 5.2 MB/s eta 0:00:01\r\u001B[K     |██████▊                         | 440 kB 5.2 MB/s eta 0:00:01\r\u001B[K     |██████▉                         | 450 kB 5.2 MB/s eta 0:00:01\r\u001B[K     |███████                         | 460 kB 5.2 MB/s eta 0:00:01\r\u001B[K     |███████▏                        | 471 kB 5.2 MB/s eta 0:00:01\r\u001B[K     |███████▎                        | 481 kB 5.2 MB/s eta 0:00:01\r\u001B[K     |███████▌                        | 491 kB 5.2 MB/s eta 0:00:01\r\u001B[K     |███████▋                        | 501 kB 5.2 MB/s eta 0:00:01\r\u001B[K     |███████▊                        | 512 kB 5.2 MB/s eta 0:00:01\r\u001B[K     |████████                        | 522 kB 5.2 MB/s eta 0:00:01\r\u001B[K     |████████                        | 532 kB 5.2 MB/s eta 0:00:01\r\u001B[K     |████████▎                       | 542 kB 5.2 MB/s eta 0:00:01\r\u001B[K     |████████▍                       | 552 kB 5.2 MB/s eta 0:00:01\r\u001B[K     |████████▌                       | 563 kB 5.2 MB/s eta 0:00:01\r\u001B[K     |████████▊                       | 573 kB 5.2 MB/s eta 0:00:01\r\u001B[K     |████████▉                       | 583 kB 5.2 MB/s eta 0:00:01\r\u001B[K     |█████████                       | 593 kB 5.2 MB/s eta 0:00:01\r\u001B[K     |█████████▏                      | 604 kB 5.2 MB/s eta 0:00:01\r\u001B[K     |█████████▎                      | 614 kB 5.2 MB/s eta 0:00:01\r\u001B[K     |█████████▌                      | 624 kB 5.2 MB/s eta 0:00:01\r\u001B[K     |█████████▋                      | 634 kB 5.2 MB/s eta 0:00:01\r\u001B[K     |█████████▉                      | 645 kB 5.2 MB/s eta 0:00:01\r\u001B[K     |██████████                      | 655 kB 5.2 MB/s eta 0:00:01\r\u001B[K     |██████████                      | 665 kB 5.2 MB/s eta 0:00:01\r\u001B[K     |██████████▎                     | 675 kB 5.2 MB/s eta 0:00:01\r\u001B[K     |██████████▍                     | 686 kB 5.2 MB/s eta 0:00:01\r\u001B[K     |██████████▋                     | 696 kB 5.2 MB/s eta 0:00:01\r\u001B[K     |██████████▊                     | 706 kB 5.2 MB/s eta 0:00:01\r\u001B[K     |██████████▉                     | 716 kB 5.2 MB/s eta 0:00:01\r\u001B[K     |███████████                     | 727 kB 5.2 MB/s eta 0:00:01\r\u001B[K     |███████████▏                    | 737 kB 5.2 MB/s eta 0:00:01\r\u001B[K     |███████████▍                    | 747 kB 5.2 MB/s eta 0:00:01\r\u001B[K     |███████████▌                    | 757 kB 5.2 MB/s eta 0:00:01\r\u001B[K     |███████████▋                    | 768 kB 5.2 MB/s eta 0:00:01\r\u001B[K     |███████████▉                    | 778 kB 5.2 MB/s eta 0:00:01\r\u001B[K     |████████████                    | 788 kB 5.2 MB/s eta 0:00:01\r\u001B[K     |████████████▏                   | 798 kB 5.2 MB/s eta 0:00:01\r\u001B[K     |████████████▎                   | 808 kB 5.2 MB/s eta 0:00:01\r\u001B[K     |████████████▍                   | 819 kB 5.2 MB/s eta 0:00:01\r\u001B[K     |████████████▋                   | 829 kB 5.2 MB/s eta 0:00:01\r\u001B[K     |████████████▊                   | 839 kB 5.2 MB/s eta 0:00:01\r\u001B[K     |█████████████                   | 849 kB 5.2 MB/s eta 0:00:01\r\u001B[K     |█████████████                   | 860 kB 5.2 MB/s eta 0:00:01\r\u001B[K     |█████████████▏                  | 870 kB 5.2 MB/s eta 0:00:01\r\u001B[K     |█████████████▍                  | 880 kB 5.2 MB/s eta 0:00:01\r\u001B[K     |█████████████▌                  | 890 kB 5.2 MB/s eta 0:00:01\r\u001B[K     |█████████████▊                  | 901 kB 5.2 MB/s eta 0:00:01\r\u001B[K     |█████████████▉                  | 911 kB 5.2 MB/s eta 0:00:01\r\u001B[K     |██████████████                  | 921 kB 5.2 MB/s eta 0:00:01\r\u001B[K     |██████████████▏                 | 931 kB 5.2 MB/s eta 0:00:01\r\u001B[K     |██████████████▎                 | 942 kB 5.2 MB/s eta 0:00:01\r\u001B[K     |██████████████▌                 | 952 kB 5.2 MB/s eta 0:00:01\r\u001B[K     |██████████████▋                 | 962 kB 5.2 MB/s eta 0:00:01\r\u001B[K     |██████████████▊                 | 972 kB 5.2 MB/s eta 0:00:01\r\u001B[K     |███████████████                 | 983 kB 5.2 MB/s eta 0:00:01\r\u001B[K     |███████████████                 | 993 kB 5.2 MB/s eta 0:00:01\r\u001B[K     |███████████████▎                | 1.0 MB 5.2 MB/s eta 0:00:01\r\u001B[K     |███████████████▍                | 1.0 MB 5.2 MB/s eta 0:00:01\r\u001B[K     |███████████████▌                | 1.0 MB 5.2 MB/s eta 0:00:01\r\u001B[K     |███████████████▊                | 1.0 MB 5.2 MB/s eta 0:00:01\r\u001B[K     |███████████████▉                | 1.0 MB 5.2 MB/s eta 0:00:01\r\u001B[K     |████████████████                | 1.1 MB 5.2 MB/s eta 0:00:01\r\u001B[K     |████████████████▏               | 1.1 MB 5.2 MB/s eta 0:00:01\r\u001B[K     |████████████████▎               | 1.1 MB 5.2 MB/s eta 0:00:01\r\u001B[K     |████████████████▌               | 1.1 MB 5.2 MB/s eta 0:00:01\r\u001B[K     |████████████████▋               | 1.1 MB 5.2 MB/s eta 0:00:01\r\u001B[K     |████████████████▉               | 1.1 MB 5.2 MB/s eta 0:00:01\r\u001B[K     |█████████████████               | 1.1 MB 5.2 MB/s eta 0:00:01\r\u001B[K     |█████████████████               | 1.1 MB 5.2 MB/s eta 0:00:01\r\u001B[K     |█████████████████▎              | 1.1 MB 5.2 MB/s eta 0:00:01\r\u001B[K     |█████████████████▍              | 1.1 MB 5.2 MB/s eta 0:00:01\r\u001B[K     |█████████████████▋              | 1.2 MB 5.2 MB/s eta 0:00:01\r\u001B[K     |█████████████████▊              | 1.2 MB 5.2 MB/s eta 0:00:01\r\u001B[K     |█████████████████▉              | 1.2 MB 5.2 MB/s eta 0:00:01\r\u001B[K     |██████████████████              | 1.2 MB 5.2 MB/s eta 0:00:01\r\u001B[K     |██████████████████▏             | 1.2 MB 5.2 MB/s eta 0:00:01\r\u001B[K     |██████████████████▍             | 1.2 MB 5.2 MB/s eta 0:00:01\r\u001B[K     |██████████████████▌             | 1.2 MB 5.2 MB/s eta 0:00:01\r\u001B[K     |██████████████████▋             | 1.2 MB 5.2 MB/s eta 0:00:01\r\u001B[K     |██████████████████▉             | 1.2 MB 5.2 MB/s eta 0:00:01\r\u001B[K     |███████████████████             | 1.2 MB 5.2 MB/s eta 0:00:01\r\u001B[K     |███████████████████▏            | 1.3 MB 5.2 MB/s eta 0:00:01\r\u001B[K     |███████████████████▎            | 1.3 MB 5.2 MB/s eta 0:00:01\r\u001B[K     |███████████████████▍            | 1.3 MB 5.2 MB/s eta 0:00:01\r\u001B[K     |███████████████████▋            | 1.3 MB 5.2 MB/s eta 0:00:01\r\u001B[K     |███████████████████▊            | 1.3 MB 5.2 MB/s eta 0:00:01\r\u001B[K     |████████████████████            | 1.3 MB 5.2 MB/s eta 0:00:01\r\u001B[K     |████████████████████            | 1.3 MB 5.2 MB/s eta 0:00:01\r\u001B[K     |████████████████████▏           | 1.3 MB 5.2 MB/s eta 0:00:01\r\u001B[K     |████████████████████▍           | 1.3 MB 5.2 MB/s eta 0:00:01\r\u001B[K     |████████████████████▌           | 1.4 MB 5.2 MB/s eta 0:00:01\r\u001B[K     |████████████████████▊           | 1.4 MB 5.2 MB/s eta 0:00:01\r\u001B[K     |████████████████████▉           | 1.4 MB 5.2 MB/s eta 0:00:01\r\u001B[K     |█████████████████████           | 1.4 MB 5.2 MB/s eta 0:00:01\r\u001B[K     |█████████████████████▏          | 1.4 MB 5.2 MB/s eta 0:00:01\r\u001B[K     |█████████████████████▎          | 1.4 MB 5.2 MB/s eta 0:00:01\r\u001B[K     |█████████████████████▌          | 1.4 MB 5.2 MB/s eta 0:00:01\r\u001B[K     |█████████████████████▋          | 1.4 MB 5.2 MB/s eta 0:00:01\r\u001B[K     |█████████████████████▊          | 1.4 MB 5.2 MB/s eta 0:00:01\r\u001B[K     |██████████████████████          | 1.4 MB 5.2 MB/s eta 0:00:01\r\u001B[K     |██████████████████████          | 1.5 MB 5.2 MB/s eta 0:00:01\r\u001B[K     |██████████████████████▎         | 1.5 MB 5.2 MB/s eta 0:00:01\r\u001B[K     |██████████████████████▍         | 1.5 MB 5.2 MB/s eta 0:00:01\r\u001B[K     |██████████████████████▌         | 1.5 MB 5.2 MB/s eta 0:00:01\r\u001B[K     |██████████████████████▊         | 1.5 MB 5.2 MB/s eta 0:00:01\r\u001B[K     |██████████████████████▉         | 1.5 MB 5.2 MB/s eta 0:00:01\r\u001B[K     |███████████████████████         | 1.5 MB 5.2 MB/s eta 0:00:01\r\u001B[K     |███████████████████████▏        | 1.5 MB 5.2 MB/s eta 0:00:01\r\u001B[K     |███████████████████████▎        | 1.5 MB 5.2 MB/s eta 0:00:01\r\u001B[K     |███████████████████████▌        | 1.5 MB 5.2 MB/s eta 0:00:01\r\u001B[K     |███████████████████████▋        | 1.6 MB 5.2 MB/s eta 0:00:01\r\u001B[K     |███████████████████████▉        | 1.6 MB 5.2 MB/s eta 0:00:01\r\u001B[K     |████████████████████████        | 1.6 MB 5.2 MB/s eta 0:00:01\r\u001B[K     |████████████████████████        | 1.6 MB 5.2 MB/s eta 0:00:01\r\u001B[K     |████████████████████████▎       | 1.6 MB 5.2 MB/s eta 0:00:01\r\u001B[K     |████████████████████████▍       | 1.6 MB 5.2 MB/s eta 0:00:01\r\u001B[K     |████████████████████████▋       | 1.6 MB 5.2 MB/s eta 0:00:01\r\u001B[K     |████████████████████████▊       | 1.6 MB 5.2 MB/s eta 0:00:01\r\u001B[K     |████████████████████████▉       | 1.6 MB 5.2 MB/s eta 0:00:01\r\u001B[K     |█████████████████████████       | 1.6 MB 5.2 MB/s eta 0:00:01\r\u001B[K     |█████████████████████████▏      | 1.7 MB 5.2 MB/s eta 0:00:01\r\u001B[K     |█████████████████████████▍      | 1.7 MB 5.2 MB/s eta 0:00:01\r\u001B[K     |█████████████████████████▌      | 1.7 MB 5.2 MB/s eta 0:00:01\r\u001B[K     |█████████████████████████▋      | 1.7 MB 5.2 MB/s eta 0:00:01\r\u001B[K     |█████████████████████████▉      | 1.7 MB 5.2 MB/s eta 0:00:01\r\u001B[K     |██████████████████████████      | 1.7 MB 5.2 MB/s eta 0:00:01\r\u001B[K     |██████████████████████████▏     | 1.7 MB 5.2 MB/s eta 0:00:01\r\u001B[K     |██████████████████████████▎     | 1.7 MB 5.2 MB/s eta 0:00:01\r\u001B[K     |██████████████████████████▍     | 1.7 MB 5.2 MB/s eta 0:00:01\r\u001B[K     |██████████████████████████▋     | 1.8 MB 5.2 MB/s eta 0:00:01\r\u001B[K     |██████████████████████████▊     | 1.8 MB 5.2 MB/s eta 0:00:01\r\u001B[K     |███████████████████████████     | 1.8 MB 5.2 MB/s eta 0:00:01\r\u001B[K     |███████████████████████████     | 1.8 MB 5.2 MB/s eta 0:00:01\r\u001B[K     |███████████████████████████▏    | 1.8 MB 5.2 MB/s eta 0:00:01\r\u001B[K     |███████████████████████████▍    | 1.8 MB 5.2 MB/s eta 0:00:01\r\u001B[K     |███████████████████████████▌    | 1.8 MB 5.2 MB/s eta 0:00:01\r\u001B[K     |███████████████████████████▊    | 1.8 MB 5.2 MB/s eta 0:00:01\r\u001B[K     |███████████████████████████▉    | 1.8 MB 5.2 MB/s eta 0:00:01\r\u001B[K     |████████████████████████████    | 1.8 MB 5.2 MB/s eta 0:00:01\r\u001B[K     |████████████████████████████▏   | 1.9 MB 5.2 MB/s eta 0:00:01\r\u001B[K     |████████████████████████████▎   | 1.9 MB 5.2 MB/s eta 0:00:01\r\u001B[K     |████████████████████████████▌   | 1.9 MB 5.2 MB/s eta 0:00:01\r\u001B[K     |████████████████████████████▋   | 1.9 MB 5.2 MB/s eta 0:00:01\r\u001B[K     |████████████████████████████▊   | 1.9 MB 5.2 MB/s eta 0:00:01\r\u001B[K     |█████████████████████████████   | 1.9 MB 5.2 MB/s eta 0:00:01\r\u001B[K     |█████████████████████████████   | 1.9 MB 5.2 MB/s eta 0:00:01\r\u001B[K     |█████████████████████████████▎  | 1.9 MB 5.2 MB/s eta 0:00:01\r\u001B[K     |█████████████████████████████▍  | 1.9 MB 5.2 MB/s eta 0:00:01\r\u001B[K     |█████████████████████████████▌  | 1.9 MB 5.2 MB/s eta 0:00:01\r\u001B[K     |█████████████████████████████▊  | 2.0 MB 5.2 MB/s eta 0:00:01\r\u001B[K     |█████████████████████████████▉  | 2.0 MB 5.2 MB/s eta 0:00:01\r\u001B[K     |██████████████████████████████  | 2.0 MB 5.2 MB/s eta 0:00:01\r\u001B[K     |██████████████████████████████▏ | 2.0 MB 5.2 MB/s eta 0:00:01\r\u001B[K     |██████████████████████████████▎ | 2.0 MB 5.2 MB/s eta 0:00:01\r\u001B[K     |██████████████████████████████▌ | 2.0 MB 5.2 MB/s eta 0:00:01\r\u001B[K     |██████████████████████████████▋ | 2.0 MB 5.2 MB/s eta 0:00:01\r\u001B[K     |██████████████████████████████▉ | 2.0 MB 5.2 MB/s eta 0:00:01\r\u001B[K     |███████████████████████████████ | 2.0 MB 5.2 MB/s eta 0:00:01\r\u001B[K     |███████████████████████████████ | 2.0 MB 5.2 MB/s eta 0:00:01\r\u001B[K     |███████████████████████████████▎| 2.1 MB 5.2 MB/s eta 0:00:01\r\u001B[K     |███████████████████████████████▍| 2.1 MB 5.2 MB/s eta 0:00:01\r\u001B[K     |███████████████████████████████▋| 2.1 MB 5.2 MB/s eta 0:00:01\r\u001B[K     |███████████████████████████████▊| 2.1 MB 5.2 MB/s eta 0:00:01\r\u001B[K     |███████████████████████████████▉| 2.1 MB 5.2 MB/s eta 0:00:01\r\u001B[K     |████████████████████████████████| 2.1 MB 5.2 MB/s \r\n\u001B[?25hInstalling collected packages: pip\r\n  Attempting uninstall: pip\r\n    Found existing installation: pip 21.2.4\r\n    Uninstalling pip-21.2.4:\r\n      Successfully uninstalled pip-21.2.4\r\nSuccessfully installed pip-23.3\r\nCollecting nltk\r\n  Downloading nltk-3.8.1-py3-none-any.whl (1.5 MB)\r\n\u001B[?25l     \u001B[90m━━━━━━━━━━━━━━━━━━━━━━━━━━━━━━━━━━━━━━━━\u001B[0m \u001B[32m0.0/1.5 MB\u001B[0m \u001B[31m?\u001B[0m eta \u001B[36m-:--:--\u001B[0m\r\u001B[2K     \u001B[91m━━━━━━━━━\u001B[0m\u001B[90m╺\u001B[0m\u001B[90m━━━━━━━━━━━━━━━━━━━━━━━━━━━━━━\u001B[0m \u001B[32m0.4/1.5 MB\u001B[0m \u001B[31m11.1 MB/s\u001B[0m eta \u001B[36m0:00:01\u001B[0m\r\u001B[2K     \u001B[91m━━━━━━━━━━━━━━━━━━━━━━━━━━━━━━━━━━━━━━━\u001B[0m\u001B[91m╸\u001B[0m \u001B[32m1.5/1.5 MB\u001B[0m \u001B[31m24.8 MB/s\u001B[0m eta \u001B[36m0:00:01\u001B[0m\r\u001B[2K     \u001B[90m━━━━━━━━━━━━━━━━━━━━━━━━━━━━━━━━━━━━━━━━\u001B[0m \u001B[32m1.5/1.5 MB\u001B[0m \u001B[31m19.7 MB/s\u001B[0m eta \u001B[36m0:00:00\u001B[0m\r\n\u001B[?25hRequirement already satisfied: click in /databricks/python3/lib/python3.9/site-packages (from nltk) (8.0.4)\r\nRequirement already satisfied: joblib in /databricks/python3/lib/python3.9/site-packages (from nltk) (1.1.1)\r\nCollecting regex>=2021.8.3 (from nltk)\r\n  Downloading regex-2023.10.3-cp39-cp39-manylinux_2_17_x86_64.manylinux2014_x86_64.whl.metadata (40 kB)\r\n\u001B[?25l     \u001B[90m━━━━━━━━━━━━━━━━━━━━━━━━━━━━━━━━━━━━━━━━\u001B[0m \u001B[32m0.0/40.9 kB\u001B[0m \u001B[31m?\u001B[0m eta \u001B[36m-:--:--\u001B[0m\r\u001B[2K     \u001B[90m━━━━━━━━━━━━━━━━━━━━━━━━━━━━━━━━━━━━━━━━\u001B[0m \u001B[32m40.9/40.9 kB\u001B[0m \u001B[31m3.8 MB/s\u001B[0m eta \u001B[36m0:00:00\u001B[0m\r\n\u001B[?25hCollecting tqdm (from nltk)\r\n  Downloading tqdm-4.66.1-py3-none-any.whl.metadata (57 kB)\r\n\u001B[?25l     \u001B[90m━━━━━━━━━━━━━━━━━━━━━━━━━━━━━━━━━━━━━━━━\u001B[0m \u001B[32m0.0/57.6 kB\u001B[0m \u001B[31m?\u001B[0m eta \u001B[36m-:--:--\u001B[0m\r\u001B[2K     \u001B[90m━━━━━━━━━━━━━━━━━━━━━━━━━━━━━━━━━━━━━━━━\u001B[0m \u001B[32m57.6/57.6 kB\u001B[0m \u001B[31m2.3 MB/s\u001B[0m eta \u001B[36m0:00:00\u001B[0m\r\n\u001B[?25hDownloading regex-2023.10.3-cp39-cp39-manylinux_2_17_x86_64.manylinux2014_x86_64.whl (773 kB)\r\n\u001B[?25l   \u001B[90m━━━━━━━━━━━━━━━━━━━━━━━━━━━━━━━━━━━━━━━━\u001B[0m \u001B[32m0.0/773.3 kB\u001B[0m \u001B[31m?\u001B[0m eta \u001B[36m-:--:--\u001B[0m\r\u001B[2K   \u001B[90m━━━━━━━━━━━━━━━━━━━━━━━━━━━━━━━━━━━━━━━━\u001B[0m \u001B[32m773.3/773.3 kB\u001B[0m \u001B[31m43.1 MB/s\u001B[0m eta \u001B[36m0:00:00\u001B[0m\r\n\u001B[?25hDownloading tqdm-4.66.1-py3-none-any.whl (78 kB)\r\n\u001B[?25l   \u001B[90m━━━━━━━━━━━━━━━━━━━━━━━━━━━━━━━━━━━━━━━━\u001B[0m \u001B[32m0.0/78.3 kB\u001B[0m \u001B[31m?\u001B[0m eta \u001B[36m-:--:--\u001B[0m\r\u001B[2K   \u001B[90m━━━━━━━━━━━━━━━━━━━━━━━━━━━━━━━━━━━━━━━━\u001B[0m \u001B[32m78.3/78.3 kB\u001B[0m \u001B[31m8.0 MB/s\u001B[0m eta \u001B[36m0:00:00\u001B[0m\r\n\u001B[?25hInstalling collected packages: tqdm, regex, nltk\r\nSuccessfully installed nltk-3.8.1 regex-2023.10.3 tqdm-4.66.1\r\n\u001B[33mWARNING: There was an error checking the latest version of pip.\u001B[0m\u001B[33m\r\n\u001B[0m"
     ]
    }
   ],
   "source": [
    "!pip install --upgrade pip\n",
    "!pip install nltk"
   ]
  },
  {
   "cell_type": "code",
   "execution_count": 0,
   "metadata": {
    "application/vnd.databricks.v1+cell": {
     "cellMetadata": {
      "byteLimit": 2048000,
      "rowLimit": 10000
     },
     "inputWidgets": {},
     "nuid": "572f7023-64c4-4b60-8a6e-746cb582c17a",
     "showTitle": true,
     "title": "Naive Bayes Classification with MapReduce"
    }
   },
   "outputs": [
    {
     "output_type": "stream",
     "name": "stdout",
     "output_type": "stream",
     "text": [
      "50456\n50448\nOut[2]: [('Household',\n  'Paper Plane Design Framed Wall Hanging Motivational Office Decor Art Prints (8.7 X 8.7 inch) - Set of 4 Painting made up in synthetic frame with uv textured print which gives multi effects and attracts towards it. This is an special series of paintings which makes your wall very beautiful and gives a royal touch. This painting is ready to hang, you would be proud to possess this unique painting that is a niche apart. We use only the most modern and efficient printing technology on our prints, with only the and inks and precision epson, roland and hp printers. This innovative hd printing technique results in durable and spectacular looking prints of the highest that last a lifetime. We print solely with top-notch 100% inks, to achieve brilliant and true colours. Due to their high level of uv resistance, our prints retain their beautiful colours for many years. Add colour and style to your living space with this digitally printed painting. Some are for pleasure and some for eternal bliss.so bring home this elegant print that is lushed with rich colors that makes it nothing but sheer elegance to be to your friends and family.it would be treasured forever by whoever your lucky recipient is. Liven up your place with these intriguing paintings that are high definition hd graphic digital prints for home, office or any room.'),\n ('Household',\n  \"SAF 'Floral' Framed Painting (Wood, 30 inch x 10 inch, Special Effect UV Print Textured, SAO297) Painting made up in synthetic frame with UV textured print which gives multi effects and attracts towards it. This is an special series of paintings which makes your wall very beautiful and gives a royal touch (A perfect gift for your special ones).\"),\n ('Household',\n  \"SAF 'UV Textured Modern Art Print Framed' Painting (Synthetic, 35 cm x 50 cm x 3 cm, Set of 3) Color:Multicolor                                                                                \\xa0|\\xa0                           Size:35 cm x 50 cm x 3 cm   Overview a beautiful painting involves the action or skill of using paint in the right manner; hence, the end product will be a picture that can speak a thousand words they say. Arts have been in trend for quite some time now. It can give different viewer different meanings style and design the SAF wood matte abstract painting with frame is quite abstract and mysteriously beautiful. The painting has a nice frame to it. You can gift this to a family or a friend. The painting has various forms of certain figures on it as seen in the image. You can add a good set of lights to the place where the painting is and the decor will give a different feel and look to the place. Quality and durability the painting has a matte finish and includes a good quality frame and will last for a long period. However, it does not include glass along with the frame. Specifications you can purchase SAF wood matte abstract painting with frame on amazon.in. It is the most customer-friendly platform with a wide range of products to choose from, and shopping is just a click away!\"),\n ('Household',\n  'SAF Flower Print Framed Painting (Synthetic, 13.5 inch x 22 inch, UV Textured, Set of 3, SANFSW4951) Color:Multicolor                                                                                \\xa0|\\xa0                           Size:35 cm x 50 cm x 2 cm   A beautiful painting involves the action or skill of using paint in the right manner, hence, the end product will be a picture that can speak a thousand words they say. Arts have been in trend for quite some time now. It can give different viewer different meanings style and design the saf wood matte painting with frame is quite abstract and mysteriously beautiful. The painting has a nice frame to it. You can gift this to a family or a friend. The painting has various forms of certain figures on it as seen in the image. You can add a good set of lights to the place where the painting is and the decor will give a different feel and look to the place. Quality and durability the painting has a matte finish and includes a good quality frame and will last for a long period. However, it does not include glass along with the frame.'),\n ('Household',\n  'Incredible Gifts India Wooden Happy Birthday Unique Personalized Gift (5 X 4 Inch) Size:4 x 5   Made Of Natural Imported Wood, Which Is Quite Solid With Light Particle Pattern & Is Soft Pale To Blond Colour. Your Uploaded Photo Will Look Amazing And Beautiful After Laser Engraving On It. This Is One Of The Most Popular Unique Gifts In Our Store. We Offer This In Multiple Sizes, Some Can Be Used As Table Top And The Big Sizes Can Be Used As Wall Hanging Which Just Blends With Your Home Decaration. You Just Need To Upload A Picture And Add Your Own Text And We Will Do The Rest For You. We Will Email You The Preview Before Making The Final Product. Do You Want The Best Moment Of Your Life To Be Engraved On A Wooden Plaque That Lasts For A Longer Time And Stays Close To You Forever? Then You Are At The Right Place. We Present To You Various Sizes Personalized Engraved Wooden Plaques Made With Birch Wood. Let Your Memories Be Engraved On Wooden Plaques And Stay With Your Forever.'),\n ('Household',\n  'Pitaara Box Romantic Venice Canvas Painting 6mm Thick Mdf Frame 21.1 X 14Inch Enclosure Material:MDF Mount Frame                                                                                \\xa0|\\xa0                           Size:21.1inch x 14inch (53.6cms x 35.6cms)   SIZE: 21.1 inch x 14.0 inch (53.6 cms x 35.6 cms)  Enhance the beauty of your room walls with this breathtaking digital printed artwork. Our high-end printing technology captures every detail of the image in our prints on enhanced matte painting canvas, ensuring rich and lively colours. This wall art panel is mounted on MDF and ready to hang on walls. Beautiful interior home d©cor artwork gifts for Living, Dining Room, Outdoor, Gallery, Hotels, Restaurants, Office, Reception, Kitchen Area, Balcony and Bathroom.  Pitaara Box offers an exclusive collection of thousands of artworks, digital paintings, canvas prints, wall posters, and other wall decor products for your home, office, and surroundings. We provide a never-ending range of creative and spectacular art products, which can be used for gifting on every occasion and every season.  TAGS: wall, paintings, canvas, prints, modern, art, abstract, designer, wallart, artwork, home, bedroom, dining, living, drawing, room, digital, printing, bathroom, common, area, kitchen, office, decorative, stretch, stretched, framed, framing, beautiful, classy, royal, special, unique, elegant, stylish, creative, affordable, best, photo, gifts, fabrics, balcony, interior, exterior, outdoor, gallery, hotels, restaurants, colourful, colorful, small, large, extra large, oversized, hangings, giant, slim, durable, waterproof, buy, shop, purchase, decor, online, Places, Vintage, Canvas, romantic, Venice, artwork, painting, style'),\n ('Household',\n  '\"Paper Plane Design Starry Night Vangoh Wall Art Canvas Painting. Large Size Rolled Canvas Art Print (36\"\" X 48\"\") We use only the most modern and efficient printing technology on our canvases'),\n ('Household',\n  'Pitaara Box Romantic Venice Canvas Painting 6mm Thick Mdf Frame 21.1 X 14Inch Enclosure Material:MDF Mount Frame                                                                                \\xa0|\\xa0                           Size:21.1inch x 14inch (53.6cms x 35.6cms)   SIZE: 21.1 inch x 14.0 inch (53.6 cms x 35.6 cms)  Enhance the beauty of your room walls with this breathtaking digital printed artwork. Our high-end printing technology captures every detail of the image in our prints on enhanced matte painting canvas, ensuring rich and lively colours. This wall art panel is mounted on MDF and ready to hang on walls. Beautiful interior home d©cor artwork gifts for Living, Dining Room, Outdoor, Gallery, Hotels, Restaurants, Office, Reception, Kitchen Area, Balcony and Bathroom.  Pitaara Box offers an exclusive collection of thousands of artworks, digital paintings, canvas prints, wall posters, and other wall decor products for your home, office, and surroundings. We provide a never-ending range of creative and spectacular art products, which can be used for gifting on every occasion and every season.  TAGS: wall, paintings, canvas, prints, modern, art, abstract, designer, wallart, artwork, home, bedroom, dining, living, drawing, room, digital, printing, bathroom, common, area, kitchen, office, decorative, stretch, stretched, framed, framing, beautiful, classy, royal, special, unique, elegant, stylish, creative, affordable, best, photo, gifts, fabrics, balcony, interior, exterior, outdoor, gallery, hotels, restaurants, colourful, colorful, small, large, extra large, oversized, hangings, giant, slim, durable, waterproof, buy, shop, purchase, decor, online, Places, Vintage, Canvas, romantic, Venice, artwork, painting, style'),\n ('Household',\n  \"SAF 'Ganesh Modern Art Print' Painting (Synthetic, 35 cm x 50 cm x 2 cm, Set of 3) Color:Multicolor   Overview a beautiful painting involves the action or skill of using paint in the right manner; hence, the end product will be a picture that can speak a thousand words they say. Arts have been in trend for quite some time now. It can give different viewer different meanings style and design the SAF wood matte abstract painting with frame is quite abstract and mysteriously beautiful. The painting has a nice frame to it. You can gift this to a family or a friend. The painting has various forms of certain figures on it as seen in the image. You can add a good set of lights to the place where the painting is and the decor will give a different feel and look to the place. Quality and durability the painting has a matte finish and includes a good quality frame and will last for a long period. However, it does not include glass along with the frame. Specifications you can purchase SAF wood matte abstract painting with frame on amazon.in. It is the most customer-friendly platform with a wide range of products to choose from, and shopping is just a click away!\"),\n ('Household',\n  \"Paintings Villa UV Textured Modern Art Print Framed Painting Home Decoration - Size 35 X 2 X 50 cm Paintings Villa UV Textured Modern Art Print Framed Painting Home Decoration - Size 35 X 2 X 50 cm Decorate your home and office walls with these artistic design satin matt texture framed UV art print from MAV. Each design reflects the artistic qualities and time one has taken to design this poster. Exquisitely printed and framed it is also a perfect gifting option for your colleagues loved ones and family members. These frames don't include glass so it is very light weight and wet cloth can be used to clean it.\")]"
     ]
    }
   ],
   "source": [
    "# Text classification dataset: eCommerce product classification\n",
    "# Link to the dataset: https://www.kaggle.com/datasets/saurabhshahane/ecommerce-text-classification/\n",
    "textData = spark.read.csv('/FileStore/tables/ecommerceDataset.csv')\n",
    "print(textData.count())\n",
    "curDataset = textData.dropna()\n",
    "print(curDataset.count())\n",
    "eCommerceRDD = curDataset.rdd.map(tuple)\n",
    "eCommerceRDD.take(10)"
   ]
  },
  {
   "cell_type": "code",
   "execution_count": 0,
   "metadata": {
    "application/vnd.databricks.v1+cell": {
     "cellMetadata": {
      "byteLimit": 2048000,
      "rowLimit": 10000
     },
     "inputWidgets": {},
     "nuid": "7ccefd10-29f7-43e0-8345-ed884539040f",
     "showTitle": false,
     "title": ""
    }
   },
   "outputs": [
    {
     "output_type": "stream",
     "name": "stdout",
     "output_type": "stream",
     "text": [
      "Out[3]: {'Books', 'Clothing & Accessories', 'Electronics', 'Household'}"
     ]
    }
   ],
   "source": [
    "filteredItems = eCommerceRDD.filter(lambda x: x[0] in ['Household', 'Books', 'Clothing & Accessories', 'Electronics'])\n",
    "itemClasses = filteredItems.keys().collect()\n",
    "set(itemClasses)"
   ]
  },
  {
   "cell_type": "code",
   "execution_count": 0,
   "metadata": {
    "application/vnd.databricks.v1+cell": {
     "cellMetadata": {
      "byteLimit": 2048000,
      "rowLimit": 10000
     },
     "inputWidgets": {},
     "nuid": "ab266c75-92a3-4883-871f-c1fcd0c8efaa",
     "showTitle": false,
     "title": ""
    }
   },
   "outputs": [
    {
     "output_type": "stream",
     "name": "stderr",
     "output_type": "stream",
     "text": [
      "[nltk_data] Downloading package stopwords to /root/nltk_data...\n[nltk_data]   Unzipping corpora/stopwords.zip.\n[nltk_data] Downloading package punkt to /root/nltk_data...\n[nltk_data]   Unzipping tokenizers/punkt.zip.\n"
     ]
    },
    {
     "output_type": "stream",
     "name": "stdout",
     "output_type": "stream",
     "text": [
      "Out[4]: True"
     ]
    }
   ],
   "source": [
    "import nltk\n",
    "nltk.download('stopwords')\n",
    "nltk.download('punkt')"
   ]
  },
  {
   "cell_type": "code",
   "execution_count": 0,
   "metadata": {
    "application/vnd.databricks.v1+cell": {
     "cellMetadata": {
      "byteLimit": 2048000,
      "rowLimit": 10000
     },
     "inputWidgets": {},
     "nuid": "4edf946b-fd1e-4b19-8796-9528c8a54ad4",
     "showTitle": false,
     "title": ""
    }
   },
   "outputs": [
    {
     "output_type": "stream",
     "name": "stdout",
     "output_type": "stream",
     "text": [
      "[('Household', ['paper', 'plane', 'design', 'frame', 'wall', 'hang', 'motiv', 'offic', 'decor', 'art', 'print', 'x', 'inch', 'set', 'paint', 'made', 'synthet', 'frame', 'uv', 'textur', 'print', 'give', 'multi', 'effect', 'attract', 'toward', 'special', 'seri', 'paint', 'make', 'wall', 'beauti', 'give', 'royal', 'touch', 'paint', 'readi', 'hang', 'would', 'proud', 'possess', 'uniqu', 'paint', 'nich', 'apart', 'use', 'modern', 'effici', 'print', 'technolog', 'print', 'ink', 'precis', 'epson', 'roland', 'hp', 'printer', 'innov', 'hd', 'print', 'techniqu', 'result', 'durabl', 'spectacular', 'look', 'print', 'highest', 'last', 'lifetim', 'print', 'sole', 'topnotch', 'ink', 'achiev', 'brilliant', 'true', 'colour', 'due', 'high', 'level', 'uv', 'resist', 'print', 'retain', 'beauti', 'colour', 'mani', 'year', 'add', 'colour', 'style', 'live', 'space', 'digit', 'print', 'paint', 'pleasur', 'etern', 'blissso', 'bring', 'home', 'eleg', 'print', 'lush', 'rich', 'color', 'make', 'noth', 'sheer', 'eleg', 'friend', 'familyit', 'would', 'treasur', 'forev', 'whoever', 'lucki', 'recipi', 'liven', 'place', 'intrigu', 'paint', 'high', 'definit', 'hd', 'graphic', 'digit', 'print', 'home', 'offic', 'room']), ('Household', ['saf', 'floral', 'frame', 'paint', 'wood', 'inch', 'x', 'inch', 'special', 'effect', 'uv', 'print', 'textur', 'sao', 'paint', 'made', 'synthet', 'frame', 'uv', 'textur', 'print', 'give', 'multi', 'effect', 'attract', 'toward', 'special', 'seri', 'paint', 'make', 'wall', 'beauti', 'give', 'royal', 'touch', 'perfect', 'gift', 'special', 'one']), ('Household', ['saf', 'uv', 'textur', 'modern', 'art', 'print', 'frame', 'paint', 'synthet', 'cm', 'x', 'cm', 'x', 'cm', 'set', 'colormulticolor', 'size', 'cm', 'x', 'cm', 'x', 'cm', 'overview', 'beauti', 'paint', 'involv', 'action', 'skill', 'use', 'paint', 'right', 'manner', 'henc', 'end', 'product', 'pictur', 'speak', 'thousand', 'word', 'say', 'art', 'trend', 'quit', 'time', 'give', 'differ', 'viewer', 'differ', 'mean', 'style', 'design', 'saf', 'wood', 'matt', 'abstract', 'paint', 'frame', 'quit', 'abstract', 'mysteri', 'beauti', 'paint', 'nice', 'frame', 'gift', 'famili', 'friend', 'paint', 'variou', 'form', 'certain', 'figur', 'seen', 'imag', 'add', 'good', 'set', 'light', 'place', 'paint', 'decor', 'give', 'differ', 'feel', 'look', 'place', 'qualiti', 'durabl', 'paint', 'matt', 'finish', 'includ', 'good', 'qualiti', 'frame', 'last', 'long', 'period', 'howev', 'includ', 'glass', 'along', 'frame', 'specif', 'purchas', 'saf', 'wood', 'matt', 'abstract', 'paint', 'frame', 'amazonin', 'customerfriendli', 'platform', 'wide', 'rang', 'product', 'choos', 'shop', 'click', 'away']), ('Household', ['saf', 'flower', 'print', 'frame', 'paint', 'synthet', 'inch', 'x', 'inch', 'uv', 'textur', 'set', 'sanfsw', 'colormulticolor', 'size', 'cm', 'x', 'cm', 'x', 'cm', 'beauti', 'paint', 'involv', 'action', 'skill', 'use', 'paint', 'right', 'manner', 'henc', 'end', 'product', 'pictur', 'speak', 'thousand', 'word', 'say', 'art', 'trend', 'quit', 'time', 'give', 'differ', 'viewer', 'differ', 'mean', 'style', 'design', 'saf', 'wood', 'matt', 'paint', 'frame', 'quit', 'abstract', 'mysteri', 'beauti', 'paint', 'nice', 'frame', 'gift', 'famili', 'friend', 'paint', 'variou', 'form', 'certain', 'figur', 'seen', 'imag', 'add', 'good', 'set', 'light', 'place', 'paint', 'decor', 'give', 'differ', 'feel', 'look', 'place', 'qualiti', 'durabl', 'paint', 'matt', 'finish', 'includ', 'good', 'qualiti', 'frame', 'last', 'long', 'period', 'howev', 'includ', 'glass', 'along', 'frame']), ('Household', ['incred', 'gift', 'india', 'wooden', 'happi', 'birthday', 'uniqu', 'person', 'gift', 'x', 'inch', 'size', 'x', 'made', 'natur', 'import', 'wood', 'quit', 'solid', 'light', 'particl', 'pattern', 'soft', 'pale', 'blond', 'colour', 'upload', 'photo', 'look', 'amaz', 'beauti', 'laser', 'engrav', 'one', 'popular', 'uniqu', 'gift', 'store', 'offer', 'multipl', 'size', 'use', 'tabl', 'top', 'big', 'size', 'use', 'wall', 'hang', 'blend', 'home', 'decar', 'need', 'upload', 'pictur', 'add', 'text', 'rest', 'email', 'preview', 'make', 'final', 'product', 'want', 'best', 'moment', 'life', 'engrav', 'wooden', 'plaqu', 'last', 'longer', 'time', 'stay', 'close', 'forev', 'right', 'place', 'present', 'variou', 'size', 'person', 'engrav', 'wooden', 'plaqu', 'made', 'birch', 'wood', 'let', 'memori', 'engrav', 'wooden', 'plaqu', 'stay', 'forev'])]\nOut[5]: [('Household',\n  ['paper',\n   'plane',\n   'design',\n   'frame',\n   'wall',\n   'hang',\n   'motiv',\n   'offic',\n   'decor',\n   'art',\n   'print',\n   'x',\n   'inch',\n   'set',\n   'paint',\n   'made',\n   'synthet',\n   'frame',\n   'uv',\n   'textur',\n   'print',\n   'give',\n   'multi',\n   'effect',\n   'attract',\n   'toward',\n   'special',\n   'seri',\n   'paint',\n   'make',\n   'wall',\n   'beauti',\n   'give',\n   'royal',\n   'touch',\n   'paint',\n   'readi',\n   'hang',\n   'would',\n   'proud',\n   'possess',\n   'uniqu',\n   'paint',\n   'nich',\n   'apart',\n   'use',\n   'modern',\n   'effici',\n   'print',\n   'technolog',\n   'print',\n   'ink',\n   'precis',\n   'epson',\n   'roland',\n   'hp',\n   'printer',\n   'innov',\n   'hd',\n   'print',\n   'techniqu',\n   'result',\n   'durabl',\n   'spectacular',\n   'look',\n   'print',\n   'highest',\n   'last',\n   'lifetim',\n   'print',\n   'sole',\n   'topnotch',\n   'ink',\n   'achiev',\n   'brilliant',\n   'true',\n   'colour',\n   'due',\n   'high',\n   'level',\n   'uv',\n   'resist',\n   'print',\n   'retain',\n   'beauti',\n   'colour',\n   'mani',\n   'year',\n   'add',\n   'colour',\n   'style',\n   'live',\n   'space',\n   'digit',\n   'print',\n   'paint',\n   'pleasur',\n   'etern',\n   'blissso',\n   'bring',\n   'home',\n   'eleg',\n   'print',\n   'lush',\n   'rich',\n   'color',\n   'make',\n   'noth',\n   'sheer',\n   'eleg',\n   'friend',\n   'familyit',\n   'would',\n   'treasur',\n   'forev',\n   'whoever',\n   'lucki',\n   'recipi',\n   'liven',\n   'place',\n   'intrigu',\n   'paint',\n   'high',\n   'definit',\n   'hd',\n   'graphic',\n   'digit',\n   'print',\n   'home',\n   'offic',\n   'room']),\n ('Household',\n  ['saf',\n   'floral',\n   'frame',\n   'paint',\n   'wood',\n   'inch',\n   'x',\n   'inch',\n   'special',\n   'effect',\n   'uv',\n   'print',\n   'textur',\n   'sao',\n   'paint',\n   'made',\n   'synthet',\n   'frame',\n   'uv',\n   'textur',\n   'print',\n   'give',\n   'multi',\n   'effect',\n   'attract',\n   'toward',\n   'special',\n   'seri',\n   'paint',\n   'make',\n   'wall',\n   'beauti',\n   'give',\n   'royal',\n   'touch',\n   'perfect',\n   'gift',\n   'special',\n   'one']),\n ('Household',\n  ['saf',\n   'uv',\n   'textur',\n   'modern',\n   'art',\n   'print',\n   'frame',\n   'paint',\n   'synthet',\n   'cm',\n   'x',\n   'cm',\n   'x',\n   'cm',\n   'set',\n   'colormulticolor',\n   'size',\n   'cm',\n   'x',\n   'cm',\n   'x',\n   'cm',\n   'overview',\n   'beauti',\n   'paint',\n   'involv',\n   'action',\n   'skill',\n   'use',\n   'paint',\n   'right',\n   'manner',\n   'henc',\n   'end',\n   'product',\n   'pictur',\n   'speak',\n   'thousand',\n   'word',\n   'say',\n   'art',\n   'trend',\n   'quit',\n   'time',\n   'give',\n   'differ',\n   'viewer',\n   'differ',\n   'mean',\n   'style',\n   'design',\n   'saf',\n   'wood',\n   'matt',\n   'abstract',\n   'paint',\n   'frame',\n   'quit',\n   'abstract',\n   'mysteri',\n   'beauti',\n   'paint',\n   'nice',\n   'frame',\n   'gift',\n   'famili',\n   'friend',\n   'paint',\n   'variou',\n   'form',\n   'certain',\n   'figur',\n   'seen',\n   'imag',\n   'add',\n   'good',\n   'set',\n   'light',\n   'place',\n   'paint',\n   'decor',\n   'give',\n   'differ',\n   'feel',\n   'look',\n   'place',\n   'qualiti',\n   'durabl',\n   'paint',\n   'matt',\n   'finish',\n   'includ',\n   'good',\n   'qualiti',\n   'frame',\n   'last',\n   'long',\n   'period',\n   'howev',\n   'includ',\n   'glass',\n   'along',\n   'frame',\n   'specif',\n   'purchas',\n   'saf',\n   'wood',\n   'matt',\n   'abstract',\n   'paint',\n   'frame',\n   'amazonin',\n   'customerfriendli',\n   'platform',\n   'wide',\n   'rang',\n   'product',\n   'choos',\n   'shop',\n   'click',\n   'away']),\n ('Household',\n  ['saf',\n   'flower',\n   'print',\n   'frame',\n   'paint',\n   'synthet',\n   'inch',\n   'x',\n   'inch',\n   'uv',\n   'textur',\n   'set',\n   'sanfsw',\n   'colormulticolor',\n   'size',\n   'cm',\n   'x',\n   'cm',\n   'x',\n   'cm',\n   'beauti',\n   'paint',\n   'involv',\n   'action',\n   'skill',\n   'use',\n   'paint',\n   'right',\n   'manner',\n   'henc',\n   'end',\n   'product',\n   'pictur',\n   'speak',\n   'thousand',\n   'word',\n   'say',\n   'art',\n   'trend',\n   'quit',\n   'time',\n   'give',\n   'differ',\n   'viewer',\n   'differ',\n   'mean',\n   'style',\n   'design',\n   'saf',\n   'wood',\n   'matt',\n   'paint',\n   'frame',\n   'quit',\n   'abstract',\n   'mysteri',\n   'beauti',\n   'paint',\n   'nice',\n   'frame',\n   'gift',\n   'famili',\n   'friend',\n   'paint',\n   'variou',\n   'form',\n   'certain',\n   'figur',\n   'seen',\n   'imag',\n   'add',\n   'good',\n   'set',\n   'light',\n   'place',\n   'paint',\n   'decor',\n   'give',\n   'differ',\n   'feel',\n   'look',\n   'place',\n   'qualiti',\n   'durabl',\n   'paint',\n   'matt',\n   'finish',\n   'includ',\n   'good',\n   'qualiti',\n   'frame',\n   'last',\n   'long',\n   'period',\n   'howev',\n   'includ',\n   'glass',\n   'along',\n   'frame']),\n ('Household',\n  ['incred',\n   'gift',\n   'india',\n   'wooden',\n   'happi',\n   'birthday',\n   'uniqu',\n   'person',\n   'gift',\n   'x',\n   'inch',\n   'size',\n   'x',\n   'made',\n   'natur',\n   'import',\n   'wood',\n   'quit',\n   'solid',\n   'light',\n   'particl',\n   'pattern',\n   'soft',\n   'pale',\n   'blond',\n   'colour',\n   'upload',\n   'photo',\n   'look',\n   'amaz',\n   'beauti',\n   'laser',\n   'engrav',\n   'one',\n   'popular',\n   'uniqu',\n   'gift',\n   'store',\n   'offer',\n   'multipl',\n   'size',\n   'use',\n   'tabl',\n   'top',\n   'big',\n   'size',\n   'use',\n   'wall',\n   'hang',\n   'blend',\n   'home',\n   'decar',\n   'need',\n   'upload',\n   'pictur',\n   'add',\n   'text',\n   'rest',\n   'email',\n   'preview',\n   'make',\n   'final',\n   'product',\n   'want',\n   'best',\n   'moment',\n   'life',\n   'engrav',\n   'wooden',\n   'plaqu',\n   'last',\n   'longer',\n   'time',\n   'stay',\n   'close',\n   'forev',\n   'right',\n   'place',\n   'present',\n   'variou',\n   'size',\n   'person',\n   'engrav',\n   'wooden',\n   'plaqu',\n   'made',\n   'birch',\n   'wood',\n   'let',\n   'memori',\n   'engrav',\n   'wooden',\n   'plaqu',\n   'stay',\n   'forev']),\n ('Household',\n  ['pitaara',\n   'box',\n   'romant',\n   'venic',\n   'canva',\n   'paint',\n   'mm',\n   'thick',\n   'mdf',\n   'frame',\n   'x',\n   'inch',\n   'enclosur',\n   'materialmdf',\n   'mount',\n   'frame',\n   'sizeinch',\n   'x',\n   'inch',\n   'cm',\n   'x',\n   'cm',\n   'size',\n   'inch',\n   'x',\n   'inch',\n   'cm',\n   'x',\n   'cm',\n   'enhanc',\n   'beauti',\n   'room',\n   'wall',\n   'breathtak',\n   'digit',\n   'print',\n   'artwork',\n   'highend',\n   'print',\n   'technolog',\n   'captur',\n   'everi',\n   'detail',\n   'imag',\n   'print',\n   'enhanc',\n   'matt',\n   'paint',\n   'canva',\n   'ensur',\n   'rich',\n   'live',\n   'colour',\n   'wall',\n   'art',\n   'panel',\n   'mount',\n   'mdf',\n   'readi',\n   'hang',\n   'wall',\n   'beauti',\n   'interior',\n   'home',\n   'd©cor',\n   'artwork',\n   'gift',\n   'live',\n   'dine',\n   'room',\n   'outdoor',\n   'galleri',\n   'hotel',\n   'restaur',\n   'offic',\n   'recept',\n   'kitchen',\n   'area',\n   'balconi',\n   'bathroom',\n   'pitaara',\n   'box',\n   'offer',\n   'exclus',\n   'collect',\n   'thousand',\n   'artwork',\n   'digit',\n   'paint',\n   'canva',\n   'print',\n   'wall',\n   'poster',\n   'wall',\n   'decor',\n   'product',\n   'home',\n   'offic',\n   'surround',\n   'provid',\n   'neverend',\n   'rang',\n   'creativ',\n   'spectacular',\n   'art',\n   'product',\n   'use',\n   'gift',\n   'everi',\n   'occas',\n   'everi',\n   'season',\n   'tag',\n   'wall',\n   'paint',\n   'canva',\n   'print',\n   'modern',\n   'art',\n   'abstract',\n   'design',\n   'wallart',\n   'artwork',\n   'home',\n   'bedroom',\n   'dine',\n   'live',\n   'draw',\n   'room',\n   'digit',\n   'print',\n   'bathroom',\n   'common',\n   'area',\n   'kitchen',\n   'offic',\n   'decor',\n   'stretch',\n   'stretch',\n   'frame',\n   'frame',\n   'beauti',\n   'classi',\n   'royal',\n   'special',\n   'uniqu',\n   'eleg',\n   'stylish',\n   'creativ',\n   'afford',\n   'best',\n   'photo',\n   'gift',\n   'fabric',\n   'balconi',\n   'interior',\n   'exterior',\n   'outdoor',\n   'galleri',\n   'hotel',\n   'restaur',\n   'colour',\n   'color',\n   'small',\n   'larg',\n   'extra',\n   'larg',\n   'overs',\n   'hang',\n   'giant',\n   'slim',\n   'durabl',\n   'waterproof',\n   'buy',\n   'shop',\n   'purchas',\n   'decor',\n   'onlin',\n   'place',\n   'vintag',\n   'canva',\n   'romant',\n   'venic',\n   'artwork',\n   'paint',\n   'style']),\n ('Household',\n  ['pitaara',\n   'box',\n   'romant',\n   'venic',\n   'canva',\n   'paint',\n   'mm',\n   'thick',\n   'mdf',\n   'frame',\n   'x',\n   'inch',\n   'enclosur',\n   'materialmdf',\n   'mount',\n   'frame',\n   'sizeinch',\n   'x',\n   'inch',\n   'cm',\n   'x',\n   'cm',\n   'size',\n   'inch',\n   'x',\n   'inch',\n   'cm',\n   'x',\n   'cm',\n   'enhanc',\n   'beauti',\n   'room',\n   'wall',\n   'breathtak',\n   'digit',\n   'print',\n   'artwork',\n   'highend',\n   'print',\n   'technolog',\n   'captur',\n   'everi',\n   'detail',\n   'imag',\n   'print',\n   'enhanc',\n   'matt',\n   'paint',\n   'canva',\n   'ensur',\n   'rich',\n   'live',\n   'colour',\n   'wall',\n   'art',\n   'panel',\n   'mount',\n   'mdf',\n   'readi',\n   'hang',\n   'wall',\n   'beauti',\n   'interior',\n   'home',\n   'd©cor',\n   'artwork',\n   'gift',\n   'live',\n   'dine',\n   'room',\n   'outdoor',\n   'galleri',\n   'hotel',\n   'restaur',\n   'offic',\n   'recept',\n   'kitchen',\n   'area',\n   'balconi',\n   'bathroom',\n   'pitaara',\n   'box',\n   'offer',\n   'exclus',\n   'collect',\n   'thousand',\n   'artwork',\n   'digit',\n   'paint',\n   'canva',\n   'print',\n   'wall',\n   'poster',\n   'wall',\n   'decor',\n   'product',\n   'home',\n   'offic',\n   'surround',\n   'provid',\n   'neverend',\n   'rang',\n   'creativ',\n   'spectacular',\n   'art',\n   'product',\n   'use',\n   'gift',\n   'everi',\n   'occas',\n   'everi',\n   'season',\n   'tag',\n   'wall',\n   'paint',\n   'canva',\n   'print',\n   'modern',\n   'art',\n   'abstract',\n   'design',\n   'wallart',\n   'artwork',\n   'home',\n   'bedroom',\n   'dine',\n   'live',\n   'draw',\n   'room',\n   'digit',\n   'print',\n   'bathroom',\n   'common',\n   'area',\n   'kitchen',\n   'offic',\n   'decor',\n   'stretch',\n   'stretch',\n   'frame',\n   'frame',\n   'beauti',\n   'classi',\n   'royal',\n   'special',\n   'uniqu',\n   'eleg',\n   'stylish',\n   'creativ',\n   'afford',\n   'best',\n   'photo',\n   'gift',\n   'fabric',\n   'balconi',\n   'interior',\n   'exterior',\n   'outdoor',\n   'galleri',\n   'hotel',\n   'restaur',\n   'colour',\n   'color',\n   'small',\n   'larg',\n   'extra',\n   'larg',\n   'overs',\n   'hang',\n   'giant',\n   'slim',\n   'durabl',\n   'waterproof',\n   'buy',\n   'shop',\n   'purchas',\n   'decor',\n   'onlin',\n   'place',\n   'vintag',\n   'canva',\n   'romant',\n   'venic',\n   'artwork',\n   'paint',\n   'style']),\n ('Household',\n  ['saf',\n   'ganesh',\n   'modern',\n   'art',\n   'print',\n   'paint',\n   'synthet',\n   'cm',\n   'x',\n   'cm',\n   'x',\n   'cm',\n   'set',\n   'colormulticolor',\n   'overview',\n   'beauti',\n   'paint',\n   'involv',\n   'action',\n   'skill',\n   'use',\n   'paint',\n   'right',\n   'manner',\n   'henc',\n   'end',\n   'product',\n   'pictur',\n   'speak',\n   'thousand',\n   'word',\n   'say',\n   'art',\n   'trend',\n   'quit',\n   'time',\n   'give',\n   'differ',\n   'viewer',\n   'differ',\n   'mean',\n   'style',\n   'design',\n   'saf',\n   'wood',\n   'matt',\n   'abstract',\n   'paint',\n   'frame',\n   'quit',\n   'abstract',\n   'mysteri',\n   'beauti',\n   'paint',\n   'nice',\n   'frame',\n   'gift',\n   'famili',\n   'friend',\n   'paint',\n   'variou',\n   'form',\n   'certain',\n   'figur',\n   'seen',\n   'imag',\n   'add',\n   'good',\n   'set',\n   'light',\n   'place',\n   'paint',\n   'decor',\n   'give',\n   'differ',\n   'feel',\n   'look',\n   'place',\n   'qualiti',\n   'durabl',\n   'paint',\n   'matt',\n   'finish',\n   'includ',\n   'good',\n   'qualiti',\n   'frame',\n   'last',\n   'long',\n   'period',\n   'howev',\n   'includ',\n   'glass',\n   'along',\n   'frame',\n   'specif',\n   'purchas',\n   'saf',\n   'wood',\n   'matt',\n   'abstract',\n   'paint',\n   'frame',\n   'amazonin',\n   'customerfriendli',\n   'platform',\n   'wide',\n   'rang',\n   'product',\n   'choos',\n   'shop',\n   'click',\n   'away']),\n ('Household',\n  ['paint',\n   'mantra',\n   'art',\n   'street',\n   'jardin',\n   'bird',\n   'frame',\n   'art',\n   'print',\n   'set',\n   'black',\n   'x',\n   'inch',\n   'colorcolor',\n   'black',\n   'theme',\n   'jardin',\n   'black',\n   'breath',\n   'new',\n   'life',\n   'home',\n   'offic',\n   'origin',\n   'paint',\n   'reprint',\n   'high',\n   'qualiti',\n   'print',\n   'canva',\n   'size',\n   'inch',\n   'inch',\n   'come',\n   'frame',\n   'readi',\n   'hang',\n   'note',\n   'print',\n   'doesnt',\n   'need',\n   'glass',\n   'protect',\n   'henc',\n   'come',\n   'without',\n   'glass']),\n ('Household',\n  ['paper',\n   'plane',\n   'design',\n   'starri',\n   'night',\n   'vangoh',\n   'wall',\n   'art',\n   'canva',\n   'paint',\n   'larg',\n   'size',\n   'roll',\n   'canva',\n   'art',\n   'print',\n   'x',\n   'use',\n   'modern',\n   'effici',\n   'print',\n   'technolog',\n   'canvas'])]"
     ]
    }
   ],
   "source": [
    "import string\n",
    "from nltk.stem import PorterStemmer\n",
    "from nltk.corpus import stopwords\n",
    "\n",
    "# clean the item descriptions\n",
    "# Remove stop words, punctuation, destem\n",
    "# https://www.nltk.org/api/nltk.stem.wordnet.html\n",
    "# https://towardsdatascience.com/laplace-smoothing-in-na%C3%AFve-bayes-algorithm-9c237a8bdece\n",
    "# https://towardsdatascience.com/understanding-na%C3%AFve-bayes-algorithm-f9816f6f74c0\n",
    "# https://www.guru99.com/stemming-lemmatization-python-nltk.html \n",
    "# https://towardsdatascience.com/introduction-to-na%C3%AFve-bayes-classifier-fa59e3e24aaf\n",
    "# https://towardsdatascience.com/unfolding-na%C3%AFve-bayes-from-scratch-2e86dcae4b01\n",
    "# https://medium.com/udemy-engineering/pyspark-under-the-hood-randomsplit-and-sample-inconsistencies-examined-7c6ec62644bc\n",
    "\n",
    "#lemmatizer = WordNetLemmatizer()\n",
    "ps = PorterStemmer()\n",
    "stopWords = list(stopwords.words('english'))\n",
    "\n",
    "def cleanText(text):\n",
    "\n",
    "    text = ''.join([ch for ch in text if ch not in string.digits and ch not in string.punctuation])\n",
    "    words = nltk.word_tokenize(text.lower())\n",
    "    words = [word for word in words if word not in stopWords]\n",
    "    # words = [lemmatizer.lemmatize(word, pos='n') for word in words]\n",
    "    words = [ps.stem(word) for word in words]\n",
    "    return words\n",
    "\n",
    "cleanedDescriptions = filteredItems.mapValues(lambda x: cleanText(x))\n",
    "print(cleanedDescriptions.take(5))\n",
    "trainData, testData = cleanedDescriptions.randomSplit([0.75, 0.25], seed=None)\n",
    "trainData = trainData.cache()\n",
    "testData = testData.cache()\n",
    "trainData.take(10)"
   ]
  },
  {
   "cell_type": "code",
   "execution_count": 0,
   "metadata": {
    "application/vnd.databricks.v1+cell": {
     "cellMetadata": {
      "byteLimit": 2048000,
      "rowLimit": 10000
     },
     "inputWidgets": {},
     "nuid": "5b55dc65-7630-41ae-a4af-0644312e27cd",
     "showTitle": false,
     "title": ""
    }
   },
   "outputs": [
    {
     "output_type": "stream",
     "name": "stdout",
     "output_type": "stream",
     "text": [
      "Out[6]: {'Electronics': 7987,\n 'Household': 14426,\n 'Books': 8894,\n 'Clothing & Accessories': 6544}"
     ]
    }
   ],
   "source": [
    "itemClassAndNumRows = trainData.map(lambda x: (x[0], 1)).reduceByKey(lambda x, y: x + y)\n",
    "itemClassCountMap = itemClassAndNumRows.collectAsMap()\n",
    "itemClassCountMap"
   ]
  },
  {
   "cell_type": "code",
   "execution_count": 0,
   "metadata": {
    "application/vnd.databricks.v1+cell": {
     "cellMetadata": {
      "byteLimit": 2048000,
      "rowLimit": 10000
     },
     "inputWidgets": {},
     "nuid": "9501f6bf-79cd-4f4a-beb6-482b958ee803",
     "showTitle": false,
     "title": ""
    }
   },
   "outputs": [
    {
     "output_type": "stream",
     "name": "stdout",
     "output_type": "stream",
     "text": [
      "Out[7]: {'Electronics': 0.2110115981083723,\n 'Household': 0.3811259940292198,\n 'Books': 0.23497397690946079,\n 'Clothing & Accessories': 0.1728884309529471}"
     ]
    }
   ],
   "source": [
    "numTrainData = trainData.count()\n",
    "numTestData = testData.count()\n",
    "itemClassProbabilitiesTrain = itemClassAndNumRows.mapValues(lambda x: x / numTrainData).collectAsMap()\n",
    "itemClassProbabilitiesTrain"
   ]
  },
  {
   "cell_type": "code",
   "execution_count": 0,
   "metadata": {
    "application/vnd.databricks.v1+cell": {
     "cellMetadata": {
      "byteLimit": 2048000,
      "rowLimit": 10000
     },
     "inputWidgets": {},
     "nuid": "162218e3-9c9b-48aa-9c99-ee58642d3ed7",
     "showTitle": false,
     "title": ""
    }
   },
   "outputs": [
    {
     "output_type": "stream",
     "name": "stdout",
     "output_type": "stream",
     "text": [
      "Out[8]: [(('Household', 'paper'), 737),\n (('Household', 'wall'), 2717),\n (('Household', 'offic'), 1520),\n (('Household', 'inch'), 2601),\n (('Household', 'possess'), 47),\n (('Household', 'brilliant'), 27),\n (('Household', 'retain'), 157),\n (('Household', 'add'), 1062),\n (('Household', 'cm'), 3565),\n (('Household', 'qualiti'), 3907),\n (('Household', 'sanfsw'), 2),\n (('Household', 'india'), 1118),\n (('Household', 'wooden'), 1280),\n (('Household', 'birthday'), 189),\n (('Household', 'natur'), 1076),\n (('Household', 'laser'), 175),\n (('Household', 'need'), 1926),\n (('Household', 'text'), 24),\n (('Household', 'email'), 57),\n (('Household', 'life'), 1090)]"
     ]
    }
   ],
   "source": [
    "import numpy as np\n",
    "\n",
    "trainDataUniqueWordsPerClass = trainData.reduceByKey(lambda x, y: x + y).mapValues(lambda x: list(set(x)))\n",
    "wordCountTrain = trainData.flatMap(lambda x: [((x[0], word), 1) for word in x[1]]).reduceByKey(lambda x, y: x + y)\n",
    "wordCountTrain.take(20)"
   ]
  },
  {
   "cell_type": "code",
   "execution_count": 0,
   "metadata": {
    "application/vnd.databricks.v1+cell": {
     "cellMetadata": {
      "byteLimit": 2048000,
      "rowLimit": 10000
     },
     "inputWidgets": {},
     "nuid": "f68e7ffd-1de4-4758-a276-e212812889ee",
     "showTitle": false,
     "title": ""
    }
   },
   "outputs": [
    {
     "output_type": "stream",
     "name": "stdout",
     "output_type": "stream",
     "text": [
      "Out[9]: {('Household', 'paper'): 737,\n ('Household', 'wall'): 2717,\n ('Household', 'offic'): 1520,\n ('Household', 'inch'): 2601,\n ('Household', 'possess'): 47,\n ('Household', 'brilliant'): 27,\n ('Household', 'retain'): 157,\n ('Household', 'add'): 1062,\n ('Household', 'cm'): 3565,\n ('Household', 'qualiti'): 3907,\n ('Household', 'sanfsw'): 2,\n ('Household', 'india'): 1118,\n ('Household', 'wooden'): 1280,\n ('Household', 'birthday'): 189,\n ('Household', 'natur'): 1076,\n ('Household', 'laser'): 175,\n ('Household', 'need'): 1926,\n ('Household', 'text'): 24,\n ('Household', 'email'): 57,\n ('Household', 'life'): 1090,\n ('Household', 'stay'): 321,\n ('Household', 'memori'): 187,\n ('Household', 'pitaara'): 6,\n ('Household', 'romant'): 67,\n ('Household', 'canva'): 160,\n ('Household', 'breathtak'): 8,\n ('Household', 'galleri'): 19,\n ('Household', 'hotel'): 364,\n ('Household', 'surround'): 159,\n ('Household', 'fabric'): 1268,\n ('Household', 'giant'): 8,\n ('Household', 'onlin'): 375,\n ('Household', 'street'): 50,\n ('Household', 'black'): 2182,\n ('Household', 'note'): 483,\n ('Household', 'protect'): 1740,\n ('Household', 'without'): 1337,\n ('Household', 'multicolour'): 582,\n ('Household', 'hand'): 1901,\n ('Household', 'pick'): 230,\n ('Household', 'oil'): 690,\n ('Household', 'gorgeou'): 95,\n ('Household', 'dust'): 1206,\n ('Household', 'cloth'): 2100,\n ('Household', 'info'): 29,\n ('Household', 'giclé'): 3,\n ('Household', 'hors'): 49,\n ('Household', 'embroid'): 49,\n ('Household', 'kutchh'): 2,\n ('Household', 'great'): 1470,\n ('Household', 'keep'): 2382,\n ('Household', 'hold'): 894,\n ('Household', 'key'): 790,\n ('Household', 'cellphon'): 5,\n ('Household', 'age'): 216,\n ('Household', 'heat'): 1659,\n ('Household', 'sa'): 3,\n ('Household', 'materi'): 3084,\n ('Household', 'custom'): 676,\n ('Household', 'photograph'): 79,\n ('Household', 'sanfsa'): 6,\n ('Household', 'abnorm'): 6,\n ('Household', 'learn'): 90,\n ('Household', 'magazin'): 70,\n ('Household', 'side'): 883,\n ('Household', 'shelf'): 387,\n ('Household', 'colorsideshelfpocketbrownkeyhold'): 4,\n ('Household', 'real'): 207,\n ('Household', 'sticker'): 728,\n ('Household', 'door'): 1353,\n ('Household', 'stencil'): 104,\n ('Household', 'show'): 207,\n ('Household', 'clock'): 505,\n ('Household', 'weekli'): 6,\n ('Household', 'track'): 103,\n ('Household', 'thing'): 363,\n ('Household', 'colorbabyloveascrapbook'): 2,\n ('Household', 'colorwood'): 4,\n ('Household', 'forget'): 40,\n ('Household', 'creation'): 138,\n ('Household', 'instig'): 2,\n ('Household', 'stick'): 681,\n ('Household', 'nail'): 75,\n ('Household', 'sturdi'): 794,\n ('Household', 'packag'): 1357,\n ('Household', 'minim'): 179,\n ('Household', 'den'): 5,\n ('Household', 'content'): 326,\n ('Household', 'pink'): 392,\n ('Household', 'budg'): 2,\n ('Household', 'blue'): 1218,\n ('Household', 'needl'): 240,\n ('Household', 'iron'): 1200,\n ('Household', 'darn'): 19,\n ('Household', 'hopper'): 12,\n ('Household', 'stitch'): 461,\n ('Household', 'fit'): 1156,\n ('Household', 'mini'): 517,\n ('Household', 'old'): 174,\n ('Household', 'speccial'): 1,\n ('Household', 'ress'): 1,\n ('Household', 'button'): 475,\n ('Household', 'consist'): 260,\n ('Household', 'hoop'): 24,\n ('Household', 'nameassort'): 8,\n ('Household', 'hobbi'): 81,\n ('Household', 'tool'): 1900,\n ('Household', 'screw'): 450,\n ('Household', 'desir'): 369,\n ('Household', 'aime'): 1,\n ('Household', 'fresh'): 775,\n ('Household', 'tatto'): 2,\n ('Household', 'seem'): 45,\n ('Household', 'scari'): 3,\n ('Household', 'might'): 164,\n ('Household', 'sometim'): 32,\n ('Household', 'pull'): 395,\n ('Household', 'hadnt'): 1,\n ('Household', 'experi'): 834,\n ('Household', 'incent'): 3,\n ('Household', 'main'): 275,\n ('Household', 'width'): 472,\n ('Household', 'bite'): 34,\n ('Household', 'bightbit'): 2,\n ('Household', 'knife'): 700,\n ('Household', 'enabl'): 355,\n ('Household', 'teeni'): 1,\n ('Household', 'lot'): 284,\n ('Household', 'garment'): 344,\n ('Household', 'tip'): 236,\n ('Household', 'spent'): 19,\n ('Household', 'still'): 101,\n ('Household', 'gripe'): 3,\n ('Household', 'left'): 135,\n ('Household', 'wind'): 214,\n ('Household', 'platt'): 2,\n ('Household', 'whether'): 333,\n ('Household', 'dent'): 16,\n ('Household', 'monthli'): 9,\n ('Household', 'hinck'): 1,\n ('Household', 'teacher'): 7,\n ('Household', 'grandmoth'): 3,\n ('Household', 'manag'): 125,\n ('Household', 'matur'): 3,\n ('Household', 'return'): 73,\n ('Household', 'hove'): 1,\n ('Household', 'dressmak'): 4,\n ('Household', 'centr'): 139,\n ('Household', 'adult'): 147,\n ('Household', 'childrenswear'): 1,\n ('Household', 'upcom'): 15,\n ('Household', 'pfaff'): 7,\n ('Household', 'control'): 986,\n ('Household', 'break'): 173,\n ('Household', 'ball'): 198,\n ('Household', 'arm'): 242,\n ('Household', 'excus'): 14,\n ('Household', 'wide—from'): 2,\n ('Household', 'iceland'): 2,\n ('Household', 'lace'): 86,\n ('Household', 'wrost'): 1,\n ('Household', 'braid'): 60,\n ('Household', 'threadessenti'): 1,\n ('Household', 'lengthm'): 3,\n ('Household', 'materialelast'): 1,\n ('Household', 'men'): 153,\n ('Household', 'craftselast'): 2,\n ('Household', 'rosenic'): 2,\n ('Household', 'xxcm'): 68,\n ('Household', 'mminchwith'): 1,\n ('Household', 'spark'): 35,\n ('Household', 'neckpiec'): 2,\n ('Household', 'activ'): 296,\n ('Household', 'divis'): 13,\n ('Household', 'loos'): 82,\n ('Household', 'approxfor'): 1,\n ('Household', 'cell'): 85,\n ('Household', 'mass'): 4,\n ('Household', 'entertain'): 74,\n ('Household', 'physic'): 71,\n ('Household', 'mental'): 11,\n ('Household', 'surpris'): 130,\n ('Household', 'tear'): 100,\n ('Household', 'play'): 331,\n ('Household', 'coordin'): 54,\n ('Household', 'skillofuntyp'): 1,\n ('Household', 'clip'): 362,\n ('Household', 'parisâ'): 2,\n ('Household', 'margin'): 8,\n ('Household', 'rudraksh'): 2,\n ('Household', 'kada'): 2,\n ('Household', 'random'): 162,\n ('Household', 'deliveri'): 297,\n ('Household', 'qualityit'): 2,\n ('Household', 'cmpackag'): 16,\n ('Household', 'diva'): 40,\n ('Household', 'pioneer'): 65,\n ('Household', 'preciou'): 57,\n ('Household', 'decorationsand'): 1,\n ('Household', 'materialalloyblack'): 2,\n ('Household', 'handbagpackag'): 2,\n ('Household', 'ustraa'): 7,\n ('Household', 'baobab'): 3,\n ('Household', 'repaird'): 3,\n ('Household', 'damag'): 429,\n ('Household', 'chemicalsfor'): 5,\n ('Household', 'avocado'): 3,\n ('Household', 'brylcreem'): 18,\n ('Household', 'groom'): 22,\n ('Household', 'beard'): 28,\n ('Household', 'stylishth'): 2,\n ('Household', 'listen'): 17,\n ('Household', 'spike'): 134,\n ('Household', 'warehous'): 28,\n ('Household', 'relax'): 292,\n ('Household', 'train'): 68,\n ('Household', 'hirajuku'): 2,\n ('Household', 'arrrang'): 2,\n ('Household', 'bodycar'): 4,\n ('Household', 'ahead'): 35,\n ('Household', 'trendset'): 8,\n ('Household', 'cocreat'): 1,\n ('Household', 'mighti'): 9,\n ('Household', 'toler'): 18,\n ('Household', 'fulli'): 281,\n ('Household', 'lamp'): 1059,\n ('Household', 'anshatrandcraft'): 3,\n ('Household', 'airwick'): 36,\n ('Household', 'furnish'): 191,\n ('Household', 'magic'): 195,\n ('Household', 'tea'): 751,\n ('Household', 'tranquil'): 17,\n ('Household', 'wisdom'): 24,\n ('Household', 'bless'): 25,\n ('Household', 'float'): 72,\n ('Household', 'incens'): 161,\n ('Household', 'ecof'): 2,\n ('Household', 'standard'): 822,\n ('Household', 'food'): 1996,\n ('Household', 'midmeal'): 1,\n ('Household', 'containersizelhinchx'): 2,\n ('Household', 'pickl'): 36,\n ('Household', 'sauc'): 135,\n ('Household', 'prefer'): 162,\n ('Household', 'mettal'): 3,\n ('Household', 'glaze'): 80,\n ('Household', 'prolong'): 62,\n ('Household', 'lbh'): 3,\n ('Household', 'minor'): 54,\n ('Household', 'webbi'): 3,\n ('Household', 'setcomplet'): 2,\n ('Household', 'pretend'): 7,\n ('Household', 'seafood'): 23,\n ('Household', 'almost'): 117,\n ('Household', 'dear'): 36,\n ('Household', 'seller'): 176,\n ('Household', 'microsaf'): 1,\n ('Household', 'drainag'): 28,\n ('Household', 'overwat'): 1,\n ('Household', 'chatni'): 9,\n ('Household', 'luck'): 32,\n ('Household', 'purifi'): 559,\n ('Household', 'podophyllum'): 2,\n ('Household', 'shui'): 41,\n ('Household', 'encourag'): 67,\n ('Household', 'spring'): 174,\n ('Household', 'outimport'): 1,\n ('Household', 'aroez'): 1,\n ('Household', 'labl'): 10,\n ('Household', 'dual'): 227,\n ('Household', 'grinder'): 550,\n ('Household', 'grind'): 381,\n ('Household', 'homi'): 3,\n ('Household', 'stock'): 113,\n ('Household', 'lotu'): 18,\n ('Household', 'e'): 166,\n ('Household', 'timeless'): 39,\n ('Household', 'geometr'): 35,\n ('Household', 'earthenwar'): 13,\n ('Household', 'mould'): 154,\n ('Household', 'mont'): 5,\n ('Household', 'bake'): 459,\n ('Household', 'usabl'): 45,\n ('Household', 'aim'): 70,\n ('Household', 'amaco®'): 1,\n ('Household', 'birdieclay'): 1,\n ('Household', 'workshop'): 37,\n ('Household', 'unleash'): 5,\n ('Household', 'conceptour'): 1,\n ('Household', 'la'): 36,\n ('Household', 'pro'): 186,\n ('Household', 'conceal'): 67,\n ('Household', 'opaqu'): 11,\n ('Household', 'colourfawn'): 1,\n ('Household', 'smudg'): 7,\n ('Household', 'flake'): 12,\n ('Household', 'finest'): 161,\n ('Household', 'cuddli'): 7,\n ('Household', 'nosessuit'): 1,\n ('Household', 'puppet'): 8,\n ('Household', 'etcgiv'): 2,\n ('Household', 'mminchpc'): 3,\n ('Household', 'swallow'): 2,\n ('Household', 'makingspecif'): 6,\n ('Household', 'materialpackag'): 5,\n ('Household', 'mminch（pcs）'): 3,\n ('Household', 'prettyia'): 8,\n ('Household', 'branch'): 53,\n ('Household', 'wish'): 191,\n ('Household', 'greas'): 140,\n ('Household', 'bubbl'): 156,\n ('Household', 'umbrella'): 300,\n ('Household', 'legend'): 11,\n ('Household', 'parentsgrandparentsfriendsfamili'): 6,\n ('Household', 'dreamsfor'): 6,\n ('Household', 'orchid'): 28,\n ('Household', 'inevit'): 15,\n ('Household', 'explan'): 2,\n ('Household', 'dryer'): 261,\n ('Household', 'aquarium'): 34,\n ('Household', 'colorlight'): 2,\n ('Household', 'entranc'): 54,\n ('Household', 'showcas'): 80,\n ('Household', 'towel'): 1144,\n ('Household', 'recess'): 40,\n ('Household', 'dreami'): 7,\n ('Household', 'doorswindowswal'): 1,\n ('Household', 'hardwar'): 196,\n ('Household', 'florist'): 6,\n ('Household', 'stem'): 103,\n ('Household', 'colourwhit'): 13,\n ('Household', 'bouquet'): 115,\n ('Household', 'impregn'): 10,\n ('Household', 'satini'): 4,\n ('Household', 'eva'): 49,\n ('Household', 'colourblack'): 18,\n ('Household', 'expedit'): 2,\n ('Household', 'relat'): 35,\n ('Household', 'simplehonestclass'): 1,\n ('Household', 'that'): 71,\n ('Household', 'ac'): 530,\n ('Household', 'multicolorw'): 2,\n ('Household', 'oxid'): 59,\n ('Household', 'kitwhisp'): 2,\n ('Household', 'housewif'): 8,\n ('Household', 'toolsveri'): 1,\n ('Household', 'sutur'): 1,\n ('Household', 'orderingpleas'): 1,\n ('Household', 'rhineston'): 12,\n ('Household', 'stout'): 7,\n ('Household', 'stroll'): 1,\n ('Household', 'sung'): 2,\n ('Household', 'kim'): 2,\n ('Household', 'beginnersnot'): 1,\n ('Household', 'facial'): 64,\n ('Household', 'mustach'): 1,\n ('Household', 'woodsi'): 1,\n ('Household', 'potassium'): 9,\n ('Household', 'cedarwood'): 4,\n ('Household', 'abi'): 2,\n ('Household', 'bergamia'): 3,\n ('Household', 'indicum'): 3,\n ('Household', 'sesam'): 1,\n ('Household', 'butyrospermum'): 1,\n ('Household', 'prefinish'): 1,\n ('Household', 'notebook'): 11,\n ('Household', 'bate'): 1,\n ('Household', 'lay'): 30,\n ('Household', 'freezer'): 148,\n ('Household', 'tricki'): 9,\n ('Household', 'odour'): 93,\n ('Household', 'beverageus'): 5,\n ('Household', 'cloudi'): 8,\n ('Household', 'restrict'): 34,\n ('Household', 'scour'): 8,\n ('Household', 'lifespan'): 38,\n ('Household', 'warranti'): 1012,\n ('Household', 'defect'): 140,\n ('Household', 'uniform'): 124,\n ('Household', 'browni'): 16,\n ('Household', 'shower'): 801,\n ('Household', 'soufflé'): 1,\n ('Household', 'household'): 495,\n ('Household', 'seat'): 539,\n ('Household', 'sweeper'): 35,\n ('Household', 'darningembroiderycross'): 1,\n ('Household', 'qualityth'): 6,\n ('Household', 'largeey'): 4,\n ('Household', 'namesliv'): 1,\n ('Household', 'steelsiz'): 9,\n ('Household', 'earlier'): 4,\n ('Household', 'ripper'): 13,\n ('Household', 'wrong'): 35,\n ('Household', 'unpick'): 1,\n ('Household', 'andundo'): 1,\n ('Household', 'everybodi'): 23,\n ('Household', 'jean'): 40,\n ('Household', 'trivial'): 1,\n ('Household', 'cove'): 13,\n ('Household', 'trimmer'): 20,\n ('Household', 'closedth'): 1,\n ('Household', 'openeds'): 1,\n ('Household', 'ul'): 113,\n ('Household', 'leftimageimagewrapp'): 36,\n ('Household', 'apcseventhirdcolt'): 216,\n ('Household', 'vike'): 8,\n ('Household', 'sort'): 34,\n ('Household', 'wantmateri'): 1,\n ('Household', 'descriptionbeauti'): 3,\n ('Household', 'bagnotesinc'): 2,\n ('Household', 'crowd'): 23,\n ('Household', 'sweatshirt'): 7,\n ('Household', 'extend'): 287,\n ('Household', 'thinfeatur'): 1,\n ('Household', 'sumptuous'): 3,\n ('Household', 'inchcolor'): 4,\n ('Household', 'patchesnotepleas'): 1,\n ('Household', 'roof'): 54,\n ('Household', 'glitter'): 28,\n ('Household', 'sizeapprox'): 12,\n ('Household', 'today'): 249,\n ('Household', 'inforamt'): 10,\n ('Household', 'estim'): 15,\n ('Household', 'slow'): 90,\n ('Household', 'drain'): 241,\n ('Household', 'mound'): 2,\n ('Household', 'valeniten'): 1,\n ('Household', 'goldencart'): 6,\n ('Household', 'deliverybouquet'): 5,\n ('Household', 'wrappingbouquet'): 5,\n ('Household', 'tonerbouquet'): 10,\n ('Household', 'handlebouquet'): 5,\n ('Household', 'creamfresh'): 5,\n ('Household', 'foodnatur'): 5,\n ('Household', 'deliverykitchen'): 5,\n ('Household', 'veniflow'): 5,\n ('Household', 'toolsnatur'): 5,\n ('Household', 'god'): 54,\n ('Household', 'flowera'): 6,\n ('Household', 'drown'): 3,\n ('Household', 'lili'): 8,\n ('Household', 'aashi'): 8,\n ('Household', 'flowergirl'): 2,\n ('Household', 'boardfaux'): 2,\n ('Household', 'handleapproxcm'): 4,\n ('Household', 'prime'): 92,\n ('Household', 'napkin'): 284,\n ('Household', 'rakhi'): 6,\n ('Household', 'sown'): 2,\n ('Household', 'op'): 3,\n ('Household', 'mantelpiec'): 3,\n ('Household', 'undoubtedli'): 17,\n ('Household', 'attractivekeep'): 2,\n ('Household', 'dã©cor'): 8,\n ('Household', 'decorationstrust'): 3,\n ('Household', 'galvan'): 19,\n ('Household', 'exoticli'): 1,\n ('Household', 'mk'): 13,\n ('Household', 'momo'): 16,\n ('Household', 'daffodil'): 3,\n ('Household', 'elegantli'): 81,\n ('Household', 'sophist'): 113,\n ('Household', 'shelv'): 404,\n ('Household', 'uniti'): 6,\n ('Household', 'globe'): 54,\n ('Household', 'econom'): 104,\n ('Household', 'sight'): 25,\n ('Household', 'vast'): 25,\n ('Household', 'armless'): 3,\n ('Household', 'saver'): 95,\n ('Household', 'posh'): 10,\n ('Household', 'requirementsour'): 3,\n ('Household', 'carpent'): 51,\n ('Household', 'facil'): 180,\n ('Household', 'utmost'): 61,\n ('Household', 'urban'): 86,\n ('Household', 'domenico'): 2,\n ('Household', 'nilkam'): 190,\n ('Household', 'edward'): 4,\n ('Household', 'pore'): 51,\n ('Household', 'zuari'): 5,\n ('Household', 'chennai'): 4,\n ('Household', 'date'): 77,\n ('Household', 'improp'): 15,\n ('Household', 'abus'): 5,\n ('Household', 'sunlightwat'): 1,\n ('Household', 'accept'): 31,\n ('Household', 'annul'): 1,\n ('Household', 'court'): 10,\n ('Household', 'jsonlin'): 1,\n ('Household', 'jesu'): 5,\n ('Household', 'christ'): 6,\n ('Household', 'christian'): 5,\n ('Household', 'roomdin'): 1,\n ('Household', 'timepremium'): 2,\n ('Household', 'technologyw'): 2,\n ('Household', 'ambianc'): 33,\n ('Household', 'unbeliev'): 12,\n ('Household', 'camab'): 6,\n ('Household', 'colorwhit'): 37,\n ('Household', 'siena'): 6,\n ('Household', 'bedtim'): 4,\n ('Household', 'mamta'): 28,\n ('Household', 'prong'): 18,\n ('Household', 'combsthick'): 1,\n ('Household', 'drawersbrown'): 3,\n ('Household', 'perfum'): 56,\n ('Household', 'cape'): 9,\n ('Household', 'apron'): 96,\n ('Household', 'sludg'): 1,\n ('Household', 'gloss'): 52,\n ('Household', 'chstrcrmtbublk'): 11,\n ('Household', 'id'): 61,\n ('Household', 'vehicl'): 82,\n ('Household', 'relaunch'): 1,\n ('Household', 'finn'): 1,\n ('Household', 'usbourn'): 1,\n ('Household', 'million'): 52,\n ('Household', 'bra'): 12,\n ('Household', 'cmmade'): 4,\n ('Household', 'santosha'): 29,\n ('Household', 'knickknack'): 7,\n ('Household', 'gem'): 24,\n ('Household', 'blower'): 192,\n ('Household', 'compress'): 39,\n ('Household', 'woodassembl'): 1,\n ('Household', 'complimentari'): 3,\n ('Household', 'chrome'): 503,\n ('Household', 'propel'): 5,\n ('Household', 'outstand'): 28,\n ('Household', 'spine'): 20,\n ('Household', 'catnap'): 1,\n ('Household', 'unparallel'): 18,\n ('Household', 'orthopaed'): 6,\n ('Household', 'unmatch'): 32,\n ('Household', 'storyhom'): 101,\n ('Household', 'sleepsutraa'): 1,\n ('Household', 'hygroscop'): 1,\n ('Household', 'sleepyhead'): 7,\n ('Household', 'stylex'): 1,\n ('Household', 'comforto'): 4,\n ('Household', 'logist'): 3,\n ('Household', 'offwhiteabout'): 1,\n ('Household', 'gudwel'): 2,\n ('Household', 'rise'): 75,\n ('Household', 'jern'): 6,\n ('Household', 'ultralight'): 15,\n ('Household', 'camp'): 275,\n ('Household', 'sack'): 9,\n ('Household', 'greenblu'): 3,\n ('Household', 'inditradit'): 37,\n ('Household', 'ith'): 5,\n ('Household', 'rot'): 6,\n ('Household', 'freestand'): 41,\n ('Household', 'comfortabledur'): 1,\n ('Household', 'verandah'): 6,\n ('Household', 'kkriya'): 4,\n ('Household', 'kingsiz'): 5,\n ('Household', 'climat'): 51,\n ('Household', 'centimet'): 28,\n ('Household', 'quechua'): 1,\n ('Household', 'pillar'): 51,\n ('Household', 'suspend'): 15,\n ('Household', 'guidelin'): 15,\n ('Household', 'shri'): 38,\n ('Household', 'vacuum'): 1318,\n ('Household', 'pi'): 7,\n ('Household', 'fussfre'): 2,\n ('Household', 'clutch'): 9,\n ('Household', 'dustproof'): 62,\n ('Household', 'oxford'): 18,\n ('Household', 'clark'): 6,\n ('Household', 'multiutil'): 38,\n ('Household', 'cafeteria'): 38,\n ('Household', 'familo'): 4,\n ('Household', 'advantag'): 115,\n ('Household', 'ergo'): 3,\n ('Household', 'cello'): 298,\n ('Household', 'cost'): 156,\n ('Household', 'trademark'): 56,\n ('Household', 'xl'): 56,\n ('Household', 'z'): 35,\n ('Household', 'areathi'): 6,\n ('Household', 'inchesset'): 8,\n ('Household', 'restmaintain'): 6,\n ('Household', 'drape'): 49,\n ('Household', 'performancethes'): 6,\n ('Household', '❖'): 12,\n ('Household', 'vibrat'): 32,\n ('Household', 'growwithbabi'): 1,\n ('Household', 'rattl'): 2,\n ('Household', 'italica'): 30,\n ('Household', 'hospit'): 87,\n ('Household', 'hdpe'): 9,\n ('Household', 'offlin'): 11,\n ('Household', 'balconyy'): 1,\n ('Household', 'affair'): 63,\n ('Household', 'enviro'): 11,\n ('Household', 'plzz'): 2,\n ('Household', 'corpor'): 30,\n ('Household', 'gc'): 48,\n ('Household', 'furnituredress'): 30,\n ('Household', 'templetrunk'): 30,\n ('Household', 'furniturekitchenhallwayhotel'): 30,\n ('Household', 'furniturecaf'): 30,\n ('Household', 'tudor'): 28,\n ('Household', 'ecowoodi'): 4,\n ('Household', 'alcea'): 2,\n ('Household', 'vk'): 26,\n ('Household', 'sizea'): 3,\n ('Household', 'nano'): 39,\n ('Household', 'gst'): 7,\n ('Household', 'nameblu'): 89,\n ('Household', 'dscription'): 1,\n ('Household', 'eaten'): 4,\n ('Household', 'tier'): 153,\n ('Household', 'tentdur'): 1,\n ('Household', 'institut'): 15,\n ('Household', 'intex'): 34,\n ('Household', 'featuresintroduc'): 2,\n ('Household', 'watercar'): 2,\n ('Household', 'fan'): 1280,\n ('Household', 'snow'): 27,\n ('Household', 'crank'): 33,\n ('Household', 'tiltabl'): 5,\n ('Household', 'beachlawnmarketingsun'): 1,\n ('Household', 'wcrank'): 1,\n ('Household', 'portableprotect'): 1,\n ('Household', '¸'): 6,\n ('Household', 'restraint'): 2,\n ('Household', 'wateproof'): 4,\n ('Household', 'summertclpvc'): 1,\n ('Household', 'economi'): 63,\n ('Household', 'golf'): 6,\n ('Household', 'seethrough'): 19,\n ('Household', 'hail'): 3,\n ('Household', 'balconyoutdoorsdoorkitchenhomeoffic'): 1,\n ('Household', 'fail'): 28,\n ('Household', 'grommet'): 14,\n ('Household', 'graywood'): 2,\n ('Household', 'mywoodkart'): 2,\n ('Household', 'nisar'): 6,\n ('Household', 'budget'): 27,\n ('Household', 'friendsha'): 13,\n ('Household', 'easybuy'): 3,\n ('Household', 'strobe'): 4,\n ('Household', 'lm'): 13,\n ('Household', 'pipsin'): 7,\n ('Household', 'pong'): 5,\n ('Household', 'cartrekkinghom'): 1,\n ('Household', 'horizont'): 73,\n ('Household', 'baseboard'): 8,\n ('Household', 'ebe'): 41,\n ('Household', 'racksho'): 2,\n ('Household', 'gone'): 29,\n ('Household', 'garbag'): 79,\n ('Household', 'pet'): 181,\n ('Household', 'manufacturerasthra'): 1,\n ('Household', 'dusteasi'): 2,\n ('Household', 'cmmaterialpowderco'): 1,\n ('Household', 'unview'): 4,\n ('Household', 'cubbi'): 12,\n ('Household', 'capacitymad'): 2,\n ('Household', 'jiya'): 10,\n ('Household', 'coloni'): 4,\n ('Household', 'bark'): 10,\n ('Household', 'furnitureteak'): 2,\n ('Household', 'chequer'): 8,\n ('Household', 'essentialsther'): 1,\n ('Household', 'caledonia'): 2,\n ('Household', 'mega'): 13,\n ('Household', 'aircraft'): 4,\n ('Household', 'owe'): 38,\n ('Household', 'magma'): 5,\n ('Household', 'perch'): 4,\n ('Household', 'hydraul'): 71,\n ('Household', 'suppl'): 23,\n ('Household', 'matnic'): 1,\n ('Household', 'toddlers'): 2,\n ('Household', 'oreo'): 5,\n ('Household', 'marshal'): 1,\n ('Household', 'bedrail'): 4,\n ('Household', 'namer'): 61,\n ('Household', 'countertop'): 42,\n ('Household', 'purpl'): 127,\n ('Household', 'toilet'): 312,\n ('Household', 'easilyth'): 1,\n ('Household', 'media'): 39,\n ('Household', 'dvdsalbum'): 3,\n ('Household', 'stg'): 4,\n ('Household', 'playroom'): 7,\n ('Household', 'disney'): 9,\n ('Household', 'it…did'): 12,\n ('Household', 'paperclip'): 6,\n ('Household', 'joe'): 6,\n ('Household', 'among'): 57,\n ('Household', 'excellentchoic'): 1,\n ('Household', 'kindergarten'): 9,\n ('Household', 'lever'): 137,\n ('Household', 'multit'): 8,\n ('Household', 'ks'): 12,\n ('Household', 'leatherettefabr'): 2,\n ('Household', 'sustain'): 51,\n ('Household', 'amiti'): 5,\n ('Household', 'wroght'): 2,\n ('Household', 'descriptionmultipurpos'): 2,\n ('Household', 'flea'): 2,\n ('Household', 'chairgrandpaa'): 2,\n ('Household', 'softtothetouch'): 10,\n ('Household', 'lyingdown'): 4,\n ('Household', 'empir'): 6,\n ('Household', 'addon'): 3,\n ('Household', 'eyecatch'): 30,\n ('Household', 'panton'): 35,\n ('Household', 'truer'): 35,\n ('Household', 'patternsso'): 32,\n ('Household', 'weird'): 4,\n ('Household', 'specificationsmateri'): 4,\n ('Household', 'cosco'): 1,\n ('Household', 'postpregn'): 2,\n ('Household', 'dustbin'): 62,\n ('Household', 'photocopi'): 6,\n ('Household', 'appl'): 98,\n ('Household', 'belan'): 9,\n ('Household', 'professionalsdimens'): 2,\n ('Household', 'modek'): 4,\n ('Household', 'fluid'): 54,\n ('Household', 'bee'): 32,\n ('Household', 'shelli'): 1,\n ('Household', 'bottommount'): 1,\n ('Household', 'areakid'): 1,\n ('Household', 'parrot'): 6,\n ('Household', 'squat'): 17,\n ('Household', 'prove'): 64,\n ('Household', 'constip'): 5,\n ('Household', 'gocart'): 5,\n ('Household', 'footpad'): 3,\n ('Household', 'placeth'): 2,\n ('Household', 'offcompact'): 2,\n ('Household', 'shafire™'): 3,\n ('Household', 'myne'): 1,\n ('Household', 'role'): 45,\n ('Household', 'emal'): 1,\n ('Household', 'metrobuzz'): 2,\n ('Household', 'playgro'): 2,\n ('Household', 'archana'): 3,\n ('Household', 'eras'): 21,\n ('Household', 'kaleidoscop'): 2,\n ('Household', 'tablechair'): 1,\n ('Household', 'peke'): 1,\n ('Household', 'malaysian'): 3,\n ('Household', 'silhouett'): 27,\n ('Household', 'furniotur'): 2,\n ('Household', '❺'): 1,\n ('Household', 'emporium'): 3,\n ('Household', 'campaign'): 4,\n ('Household', 'pleat'): 16,\n ('Household', 'ah'): 77,\n ('Household', 'fortun'): 65,\n ('Household', 'youd'): 14,\n ('Household', 'colorteak'): 7,\n ('Household', 'berlin'): 2,\n ('Household', 'sonata'): 4,\n ('Household', 'neutral'): 19,\n ('Household', 'bush'): 22,\n ('Household', 'mib'): 6,\n ('Household', 'austen'): 3,\n ('Household', 'exchang'): 69,\n ('Household', 'junip'): 3,\n ('Household', 'ivan'): 2,\n ('Household', 'size××'): 2,\n ('Household', 'brenta'): 4,\n ('Household', 'gettogeth'): 10,\n ('Household', 'invert'): 237,\n ('Household', 'buildin'): 1,\n ('Household', 'pulleyarm'): 1,\n ('Household', 'barbel'): 3,\n ('Household', 'viscou'): 3,\n ('Household', 'chit'): 1,\n ('Household', 'neighbour'): 4,\n ('Household', 'machaan'): 4,\n ('Household', 'velveti'): 5,\n ('Household', 'caddi'): 46,\n ('Household', 'lofster'): 6,\n ('Household', 'lofsterbeanblu'): 3,\n ('Household', 'accident'): 65,\n ('Household', 'emot'): 25,\n ('Household', 'soccer'): 2,\n ('Household', 'luxuryon'): 2,\n ('Household', 'thermocol'): 12,\n ('Household', 'pellet'): 2,\n ('Household', 'pea'): 4,\n ('Household', 'ltr'): 148,\n ('Household', 'chitchat'): 2,\n ('Household', 'scandinavian'): 3,\n ('Household', 'odorless'): 37,\n ('Household', 'lbcolor'): 1,\n ('Household', 'hardback'): 5,\n ('Household', 'hardshel'): 1,\n ('Household', 'worryfre'): 5,\n ('Household', 'viki'): 3,\n ('Household', 'lexi'): 2,\n ('Household', 'branco'): 5,\n ('Household', 'brc'): 5,\n ('Household', 'polyesters'): 1,\n ('Household', 'knight'): 2,\n ('Household', 'cassatt'): 1,\n ('Household', 'julian'): 1,\n ('Household', 'multiadjust'): 1,\n ('Household', 'todayrock'): 1,\n ('Household', 'restrelax'): 1,\n ('Household', 'aristo'): 34,\n ('Household', 'kitschi'): 1,\n ('Household', 'galvanis'): 5,\n ('Household', 'monobloc'): 1,\n ('Household', 'guitar'): 17,\n ('Household', 'defec'): 2,\n ('Household', 'rome'): 6,\n ('Household', 'massesstrongwhat'): 1,\n ('Household', 'ottomanspouff'): 1,\n ('Household', 'passioni'): 1,\n ('Household', 'legsmust'): 1,\n ('Household', 'eager'): 1,\n ('Household', 'bucklesnap'): 1,\n ('Household', 'bucklelengthen'): 1,\n ('Household', 'burden'): 8,\n ('Household', 'useus'): 4,\n ('Household', 'gjcheliv'): 1,\n ('Household', 'written'): 4,\n ('Household', 'pcswhite'): 6,\n ('Household', 'rrg'): 3,\n ('Household', 'toogoor'): 4,\n ('Household', 'blackpackag'): 2,\n ('Household', 'cosmo'): 16,\n ('Household', 'tuft'): 21,\n ('Household', 'flax'): 1,\n ('Household', 'ottman'): 1,\n ('Household', 'fabricbig'): 2,\n ('Household', 'contentsstoolnot'): 2,\n ('Household', 'unfil'): 1,\n ('Household', 'hsr'): 11,\n ('Household', 'stake'): 3,\n ('Household', 'lamzac'): 2,\n ('Household', 'pcsinflat'): 1,\n ('Household', 'fibrosi'): 1,\n ('Household', 'vyk'): 2,\n ('Household', 'finishingth'): 9,\n ('Household', 'seper'): 9,\n ('Household', 'feethigh'): 2,\n ('Household', 'crate'): 12,\n ('Household', 'partitionwooden'): 5,\n ('Household', 'krabi'): 2,\n ('Household', 'bhiwandi'): 10,\n ('Household', 'maharajah'): 1,\n ('Household', 'puffi'): 10,\n ('Household', 'qualityassurefurnituregmailcom'): 4,\n ('Household', 'inher'): 5,\n ('Household', 'incorrectli'): 4,\n ('Household', 'lavi'): 2,\n ('Household', 'lshape'): 9,\n ('Household', 'dp'): 19,\n ('Household', 'meera'): 2,\n ('Household', 'clayton'): 3,\n ('Household', 'sizesixseat'): 1,\n ('Household', 'pocketfriendli'): 6,\n ('Household', 'rosabel'): 2,\n ('Household', 'highdens'): 5,\n ('Household', 'herman'): 2,\n ('Household', 'clack'): 4,\n ('Household', 'popcorn'): 85,\n ('Household', 'colorsoo'): 2,\n ('Household', 'cumbedth'): 1,\n ('Household', 'easean'): 1,\n ('Household', 'fabfurni'): 5,\n ('Household', 'sizeslshap'): 5,\n ('Household', 'neem'): 9,\n ('Household', 'deliveryth'): 1,\n ('Household', 'columbu'): 1,\n ('Household', 'ctnortw'): 3,\n ('Household', 'roundabout'): 1,\n ('Household', 'expans'): 16,\n ('Household', 'lawanya'): 3,\n ('Household', 'boi'): 3,\n ('Household', 'sidet'): 1,\n ('Household', 'rado'): 1,\n ('Household', 'finsih'): 2,\n ('Household', 'shahzio'): 3,\n ('Household', 'everywher'): 25,\n ('Household', 'knick'): 12,\n ('Household', 'sanyo'): 10,\n ('Household', 'xtau'): 3,\n ('Household', 'discern'): 14,\n ('Household', 'app'): 60,\n ('Household', 'ram'): 18,\n ('Household', 'opm'): 1,\n ('Household', 'chromecast'): 2,\n ('Household', 'uakarlxl'): 1,\n ('Household', 'jack'): 14,\n ('Household', 'acoust'): 10,\n ('Household', 'dektron'): 5,\n ('Household', 'shot'): 66,\n ('Household', 'latt'): 35,\n ('Household', 'virasat'): 2,\n ('Household', 'addict'): 2,\n ('Household', 'nook'): 34,\n ('Household', 'drinkor'): 1,\n ('Household', 'soho'): 10,\n ('Household', 'nayasa'): 64,\n ('Household', 'magnum'): 9,\n ('Household', 'garag'): 76,\n ('Household', 'handkerchief'): 9,\n ('Household', 'namemulticolour'): 26,\n ('Household', 'storewel'): 5,\n ('Household', 'jewelryaccessorieslipstick'): 5,\n ('Household', 'lucr'): 3,\n ('Household', 'warli'): 40,\n ('Household', 'craftspeopl'): 21,\n ('Household', 'fragment'): 6,\n ('Household', 'saga'): 1,\n ('Household', 'accessorieshardwar'): 3,\n ('Household', 'lepos'): 18,\n ('Household', 'gosfrid'): 11,\n ('Household', 'aurora'): 4,\n ('Household', 'eisner'): 4,\n ('Household', 'colourbrown'): 2,\n ('Household', 'respond'): 6,\n ('Household', 'newyork'): 2,\n ('Household', 'colorsilv'): 8,\n ('Household', 'coloroffwhitewhi'): 1,\n ('Household', 'frosti'): 2,\n ('Household', 'poplar'): 1,\n ('Household', 'aditi'): 4,\n ('Household', 'pluto'): 1,\n ('Household', 'sata'): 30,\n ('Household', 'ps'): 17,\n ('Household', 'eezygo'): 2,\n ('Household', 'angular'): 11,\n ('Household', 'belem'): 1,\n ('Household', 'slick'): 5,\n ('Household', 'kleptomaniac'): 4,\n ('Household', 'trail'): 9,\n ('Household', 'mountain'): 10,\n ('Household', 'mud'): 15,\n ('Household', '❤'): 7,\n ('Household', 'colourblu'): 3,\n ('Household', 'chestcupboard'): 3,\n ('Household', 'cedar'): 3,\n ('Household', 'kantha'): 1,\n ('Household', 'suv'): 9,\n ('Household', 'nobodi'): 3,\n ('Household', 'pamper'): 57,\n ('Household', 'worka'): 4,\n ('Household', 'massag'): 55,\n ('Household', 'carpetunlik'): 2,\n ('Household', 'frontrear'): 4,\n ('Household', 'descriptionnewest'): 2,\n ('Household', 'placecom'): 2,\n ('Household', 'accessorieseasili'): 2,\n ('Household', 'approxi'): 2,\n ('Household', 'pinewood'): 2,\n ('Household', 'rectifi'): 1,\n ('Household', 'nonskid'): 24,\n ('Household', 'restroom'): 10,\n ('Household', 'ect'): 5,\n ('Household', 'spacecraft'): 8,\n ('Household', 'impoverish'): 1,\n ('Household', 'tabledin'): 1,\n ('Household', 'alarm'): 273,\n ('Household', 'whitegrey'): 19,\n ('Household', 'dispens'): 346,\n ('Household', 'symphoni'): 30,\n ('Household', 'cornertocorn'): 4,\n ('Household', 'inlet'): 65,\n ('Household', 'hz'): 170,\n ('Household', 'netyesenggplast'): 2,\n ('Household', 'fanblow'): 2,\n ('Household', 'hourno'): 2,\n ('Household', 'chambernohumid'): 2,\n ('Household', 'mccoy'): 12,\n ('Household', 'quater'): 3,\n ('Household', 'coolant'): 4,\n ('Household', 'cyclon'): 69,\n ('Household', 'litersair'): 1,\n ('Household', 'whiteblack'): 4,\n ('Household', 'cdwbr'): 1,\n ('Household', 'distinguish'): 9,\n ('Household', 'shut'): 70,\n ('Household', 'bound'): 29,\n ('Household', 'randoma'): 2,\n ('Household', 'outlet'): 123,\n ('Household', 'wider'): 22,\n ('Household', 'saturday'): 8,\n ('Household', 'emndr'): 3,\n ('Household', 'stellar'): 8,\n ('Household', 'mhour'): 2,\n ('Household', 'harivar'): 1,\n ('Household', 'valveno'): 1,\n ('Household', 'padsy'): 1,\n ('Household', 'roto'): 1,\n ('Household', 'dx'): 42,\n ...}"
     ]
    }
   ],
   "source": [
    "wordToClassProbMap = wordCountTrain.collectAsMap()\n",
    "wordToClassProbMap"
   ]
  },
  {
   "cell_type": "code",
   "execution_count": 0,
   "metadata": {
    "application/vnd.databricks.v1+cell": {
     "cellMetadata": {
      "byteLimit": 2048000,
      "rowLimit": 10000
     },
     "inputWidgets": {},
     "nuid": "4d20998e-ce62-411f-a63a-3d8d2eb156e1",
     "showTitle": false,
     "title": ""
    }
   },
   "outputs": [
    {
     "output_type": "stream",
     "name": "stdout",
     "output_type": "stream",
     "text": [
      "Out[10]: [(('Household', 'paper'), -4.694351744820751),\n (('Household', 'wall'), -3.3906439747101342),\n (('Household', 'offic'), -3.9711722771619304),\n (('Household', 'inch'), -3.4342599103487728),\n (('Household', 'possess'), -7.427094558513333),\n (('Household', 'brilliant'), -7.966091059246019),\n (('Household', 'retain'), -6.235700536394257),\n (('Household', 'add'), -4.329445191079276),\n (('Household', 'cm'), -3.1190957709981375),\n (('Household', 'qualiti'), -3.02751455625855),\n (('Household', 'sanfsw'), -10.199683280753113),\n (('Household', 'india'), -4.278104861109298),\n (('Household', 'wooden'), -4.14289926752449),\n (('Household', 'birthday'), -6.051271497260737),\n (('Household', 'natur'), -4.316360892264835),\n (('Household', 'laser'), -6.127811574383071),\n (('Household', 'need'), -3.734575901006857),\n (('Household', 'text'), -8.079419744553023),\n (('Household', 'email'), -7.237852558874804),\n (('Household', 'life'), -4.303445583588153)]"
     ]
    }
   ],
   "source": [
    "import math\n",
    "trainDataWordVocabulary = wordCountTrain.map(lambda x: x[0][1]).distinct().collect()\n",
    "wordProbTrain = wordCountTrain.map(lambda x: ((x[0][0], x[0][1]), math.log((x[1] + 1) / (itemClassCountMap[x[0][0]] + len(trainDataWordVocabulary)))))\n",
    "wordProbTrain.take(20)"
   ]
  },
  {
   "cell_type": "code",
   "execution_count": 0,
   "metadata": {
    "application/vnd.databricks.v1+cell": {
     "cellMetadata": {
      "byteLimit": 2048000,
      "rowLimit": 10000
     },
     "inputWidgets": {},
     "nuid": "fa179e6a-c2b7-4665-8edf-ff2a9003405a",
     "showTitle": false,
     "title": ""
    }
   },
   "outputs": [
    {
     "output_type": "stream",
     "name": "stdout",
     "output_type": "stream",
     "text": [
      "[('Household', (['paper', 'plane', 'design', 'starri', 'night', 'vangoh', 'wall', 'art', 'canva', 'paint', 'larg', 'size', 'roll', 'canva', 'art', 'print', 'x', 'use', 'modern', 'effici', 'print', 'technolog', 'canvas'], [('Electronics', -145.57126322444617), ('Household', -120.45210491152699), ('Books', -155.1501906973765), ('Clothing & Accessories', -165.68896539283466)])), ('Household', (['paint', 'villa', 'uv', 'textur', 'modern', 'art', 'print', 'frame', 'paint', 'home', 'decor', 'size', 'x', 'x', 'cm', 'paint', 'villa', 'uv', 'textur', 'modern', 'art', 'print', 'frame', 'paint', 'home', 'decor', 'size', 'x', 'x', 'cm', 'decor', 'home', 'offic', 'wall', 'artist', 'design', 'satin', 'matt', 'textur', 'frame', 'uv', 'art', 'print', 'mav', 'design', 'reflect', 'artist', 'qualiti', 'time', 'one', 'taken', 'design', 'poster', 'exquisit', 'print', 'frame', 'also', 'perfect', 'gift', 'option', 'colleagu', 'love', 'one', 'famili', 'member', 'frame', 'dont', 'includ', 'glass', 'light', 'weight', 'wet', 'cloth', 'use', 'clean'], [('Electronics', -431.7928986040573), ('Household', -338.2888828039728), ('Books', -478.75782660127715), ('Clothing & Accessories', -473.3819213341713)])), ('Household', (['paint', 'mantra', 'vintag', 'car', 'art', 'print', 'set', 'synthet', 'wood', 'cm', 'x', 'cm', 'x', 'cm', 'brown', 'set', 'size', 'cm', 'x', 'cm', 'x', 'cm', 'hous', 'art', 'street', 'bring', 'exclus', 'frame', 'poster', 'satiat', 'tast', 'decor', 'freak', 'vintag', 'car', 'lover', 'fill', 'stationvintag', 'car', 'brown', 'frame', 'poster', 'high', 'resolut', 'vintag', 'poster', 'come', 'cover', 'brown', 'frame', 'hang', 'frame', 'poster', 'depict', 'imag', 'car', 'nostalg', 'era', 'favourit', 'wall', 'make', 'look', 'colour', 'vibrant', 'product', 'durabl', 'high', 'qualiti', 'present', 'love', 'art', 'street'], [('Electronics', -437.1925680375821), ('Household', -361.69458544799), ('Books', -478.90666694165765), ('Clothing & Accessories', -487.6679883246124)])), ('Household', (['paint', 'mantra', 'synthet', 'wood', 'art', 'street', 'tropic', 'frame', 'canva', 'art', 'print', 'x', 'inch', 'green', 'colorcolor', 'green', 'theme', 'tropic', 'green', 'make', 'blank', 'space', 'pop', 'rad', 'art', 'print', 'better', 'yet', 'start', 'galleri', 'wall', 'mix', 'art', 'print', 'poster', 'canva', 'print', 'frame', 'print', 'size', 'elev', 'space', 'design', 'art', 'print', 'print', 'galleri', 'canva', 'natur', 'white', 'color', 'matt', 'ultra', 'smooth', 'textur', 'box', 'frame', 'use', 'highlight', 'print', 'even'], [('Electronics', -385.28238220683306), ('Household', -329.78864224124953), ('Books', -409.6218676692886), ('Clothing & Accessories', -421.0857550391814)])), ('Household', (['indianara', 'squar', 'synthet', 'wood', 'frame', 'wall', 'hang', 'art', 'paint', 'cm', 'x', 'cm', 'x', 'cm', 'set', 'adorn', 'wall', 'live', 'space', 'exquisit', 'made', 'aesthet', 'pleas', 'visual', 'stimul', 'piec', 'set', 'frame', 'wall', 'hang', 'art', 'print', 'frame', 'made', 'brown', 'synthet', 'wood', 'breath', 'fresh', 'life', 'wall', 'room', 'also', 'make', 'thought', 'uniqu', 'gift', 'love', 'one', 'special', 'occas', 'birthdayswed', 'anniversaryhous', 'warm', 'ceremoni', 'festiv'], [('Electronics', -359.76120943068184), ('Household', -272.59076069471865), ('Books', -367.90735687702255), ('Clothing & Accessories', -368.57376533091)]))]\n[('Household', [('Electronics', -145.57126322444617), ('Household', -120.45210491152699), ('Books', -155.1501906973765), ('Clothing & Accessories', -165.68896539283466)]), ('Household', [('Electronics', -431.7928986040573), ('Household', -338.2888828039728), ('Books', -478.75782660127715), ('Clothing & Accessories', -473.3819213341713)]), ('Household', [('Electronics', -437.1925680375821), ('Household', -361.69458544799), ('Books', -478.90666694165765), ('Clothing & Accessories', -487.6679883246124)]), ('Household', [('Electronics', -385.28238220683306), ('Household', -329.78864224124953), ('Books', -409.6218676692886), ('Clothing & Accessories', -421.0857550391814)]), ('Household', [('Electronics', -359.76120943068184), ('Household', -272.59076069471865), ('Books', -367.90735687702255), ('Clothing & Accessories', -368.57376533091)])]\nNaive Bayes model accuracy:  0.9220551976457488\n"
     ]
    }
   ],
   "source": [
    "# Use the test set on the trained word probabilities\n",
    "wordProbTrainMap = wordProbTrain.collectAsMap()\n",
    "\n",
    "def getClassProbs(itemDescription, itemClassProbabilitiesTrain, itemClassCountMap, wordProbTrainMap, trainDataWordVocabulary):\n",
    "    classAndProb = []\n",
    "    for itemClass, prob in itemClassProbabilitiesTrain.items():\n",
    "        descriptionProb = np.log(prob)\n",
    "        for word in itemDescription:\n",
    "            testWordProb = 0\n",
    "            if (itemClass, word) in wordProbTrainMap:\n",
    "                testWordProb += wordProbTrainMap.get((itemClass, word))\n",
    "            else:\n",
    "                testWordProb += math.log(1 / (itemClassCountMap[itemClass] + len(trainDataWordVocabulary)))\n",
    "            descriptionProb += testWordProb\n",
    "        classAndProb.append((itemClass, descriptionProb))\n",
    "    return classAndProb\n",
    "\n",
    "testDataClassProbs = testData.mapValues(lambda x: (x, getClassProbs(x, itemClassProbabilitiesTrain, itemClassCountMap, wordProbTrainMap, trainDataWordVocabulary)))\n",
    "print(testDataClassProbs.take(5))\n",
    "testPreds = testDataClassProbs.map(lambda x: (x[0], x[1][1]))\n",
    "print(testPreds.take(5))\n",
    "testAccuracy = testPreds.filter(lambda x: x[0] == max(x[1], key=lambda x: x[1])[0]).count() / numTestData\n",
    "print(\"Naive Bayes model accuracy: \", testAccuracy)"
   ]
  },
  {
   "cell_type": "code",
   "execution_count": 0,
   "metadata": {
    "application/vnd.databricks.v1+cell": {
     "cellMetadata": {
      "byteLimit": 2048000,
      "rowLimit": 10000
     },
     "inputWidgets": {},
     "nuid": "c554151a-3840-4883-9e10-afed7717d422",
     "showTitle": false,
     "title": ""
    }
   },
   "outputs": [
    {
     "output_type": "stream",
     "name": "stdout",
     "output_type": "stream",
     "text": [
      "Household count:  4887\nClothing & Accessories count:  2126\nElectronics count:  2634\nBooks count:  2926\n\nHousehold accuracy:  0.9817884182525066\nClothing & Accessories accuracy:  0.8245531514581373\nElectronics accuracy:  0.9009111617312073\nBooks accuracy:  0.9121667805878332\n"
     ]
    }
   ],
   "source": [
    "# Filter test data for each item class\n",
    "householdTest = testPreds.filter(lambda x: x[0] == 'Household')\n",
    "clothingTest = testPreds.filter(lambda x: x[0] == 'Clothing & Accessories')\n",
    "electronicsTest = testPreds.filter(lambda x: x[0] == 'Electronics')\n",
    "booksTest = testPreds.filter(lambda x: x[0] == 'Books')\n",
    "\n",
    "householdCount = householdTest.count()\n",
    "clothingCount = clothingTest.count()\n",
    "electronicsCount = electronicsTest.count()\n",
    "booksCount = booksTest.count()\n",
    "\n",
    "print(\"Household count: \", householdCount)\n",
    "print(\"Clothing & Accessories count: \", clothingCount)\n",
    "print(\"Electronics count: \", electronicsCount)\n",
    "print(\"Books count: \", booksCount)\n",
    "\n",
    "print()\n",
    "\n",
    "householdAccuracy = householdTest.filter(lambda x: x[0] == max(x[1], key=lambda x: x[1])[0]).count() / householdCount\n",
    "print(\"Household accuracy: \", householdAccuracy)\n",
    "\n",
    "clothingAccuracy = clothingTest.filter(lambda x: x[0] == max(x[1], key=lambda x: x[1])[0]).count() / clothingCount\n",
    "print(\"Clothing & Accessories accuracy: \", clothingAccuracy)\n",
    "\n",
    "electronicsAccuracy = electronicsTest.filter(lambda x: x[0] == max(x[1], key=lambda x: x[1])[0]).count() / electronicsCount\n",
    "print(\"Electronics accuracy: \", electronicsAccuracy)\n",
    "\n",
    "booksAccuracy = booksTest.filter(lambda x: x[0] == max(x[1], key=lambda x: x[1])[0]).count() / booksCount\n",
    "print(\"Books accuracy: \", booksAccuracy)"
   ]
  },
  {
   "cell_type": "code",
   "execution_count": 0,
   "metadata": {
    "application/vnd.databricks.v1+cell": {
     "cellMetadata": {},
     "inputWidgets": {},
     "nuid": "d38ea6e3-e7dc-4307-b3da-b1994bee8586",
     "showTitle": false,
     "title": ""
    }
   },
   "outputs": [],
   "source": []
  }
 ],
 "metadata": {
  "application/vnd.databricks.v1+notebook": {
   "dashboards": [],
   "language": "python",
   "notebookMetadata": {
    "mostRecentlyExecutedCommandWithImplicitDF": {
     "commandId": 618501668526336,
     "dataframes": [
      "_sqldf"
     ]
    },
    "pythonIndentUnit": 4
   },
   "notebookName": "CS 6350 Assignment 2",
   "widgets": {}
  }
 },
 "nbformat": 4,
 "nbformat_minor": 0
}
